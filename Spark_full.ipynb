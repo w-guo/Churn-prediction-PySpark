{
 "cells": [
  {
   "cell_type": "markdown",
   "metadata": {},
   "source": [
    "# Customer Churn Prediction for Sparkify using PySpark\n",
    "\n",
    "This notebook is used to train the full dataset with Spark on AWS. "
   ]
  },
  {
   "cell_type": "code",
   "execution_count": 1,
   "metadata": {},
   "outputs": [
    {
     "data": {
      "application/vnd.jupyter.widget-view+json": {
       "model_id": "47fd353d56164652b7a089c6cc48aec1",
       "version_major": 2,
       "version_minor": 0
      },
      "text/plain": [
       "VBox()"
      ]
     },
     "metadata": {},
     "output_type": "display_data"
    },
    {
     "name": "stdout",
     "output_type": "stream",
     "text": [
      "Starting Spark application\n"
     ]
    },
    {
     "data": {
      "text/html": [
       "<table>\n",
       "<tr><th>ID</th><th>YARN Application ID</th><th>Kind</th><th>State</th><th>Spark UI</th><th>Driver log</th><th>Current session?</th></tr><tr><td>0</td><td>application_1606191126161_0009</td><td>pyspark</td><td>idle</td><td><a target=\"_blank\" href=\"http://ip-172-31-23-49.us-west-2.compute.internal:20888/proxy/application_1606191126161_0009/\">Link</a></td><td><a target=\"_blank\" href=\"http://ip-172-31-26-121.us-west-2.compute.internal:8042/node/containerlogs/container_1606191126161_0009_01_000001/livy\">Link</a></td><td>✔</td></tr></table>"
      ],
      "text/plain": [
       "<IPython.core.display.HTML object>"
      ]
     },
     "metadata": {},
     "output_type": "display_data"
    },
    {
     "data": {
      "application/vnd.jupyter.widget-view+json": {
       "model_id": "",
       "version_major": 2,
       "version_minor": 0
      },
      "text/plain": [
       "FloatProgress(value=0.0, bar_style='info', description='Progress:', layout=Layout(height='25px', width='50%'),…"
      ]
     },
     "metadata": {},
     "output_type": "display_data"
    },
    {
     "name": "stdout",
     "output_type": "stream",
     "text": [
      "SparkSession available as 'spark'.\n"
     ]
    },
    {
     "data": {
      "application/vnd.jupyter.widget-view+json": {
       "model_id": "",
       "version_major": 2,
       "version_minor": 0
      },
      "text/plain": [
       "FloatProgress(value=0.0, bar_style='info', description='Progress:', layout=Layout(height='25px', width='50%'),…"
      ]
     },
     "metadata": {},
     "output_type": "display_data"
    },
    {
     "name": "stdout",
     "output_type": "stream",
     "text": [
      "Package                    Version  \n",
      "-------------------------- ---------\n",
      "beautifulsoup4             4.9.1    \n",
      "boto                       2.49.0   \n",
      "click                      7.1.2    \n",
      "jmespath                   0.10.0   \n",
      "joblib                     0.16.0   \n",
      "lxml                       4.5.2    \n",
      "mysqlclient                1.4.2    \n",
      "nltk                       3.5      \n",
      "nose                       1.3.4    \n",
      "numpy                      1.16.5   \n",
      "pip                        9.0.1    \n",
      "py-dateutil                2.2      \n",
      "python37-sagemaker-pyspark 1.4.0    \n",
      "pytz                       2020.1   \n",
      "PyYAML                     5.3.1    \n",
      "regex                      2020.7.14\n",
      "setuptools                 28.8.0   \n",
      "six                        1.13.0   \n",
      "soupsieve                  1.9.5    \n",
      "tqdm                       4.48.2   \n",
      "wheel                      0.29.0   \n",
      "windmill                   1.6"
     ]
    }
   ],
   "source": [
    "# https://aws.amazon.com/blogs/big-data/install-python-libraries-on-a-running-cluster-with-emr-notebooks/\n",
    "sc.list_packages()"
   ]
  },
  {
   "cell_type": "code",
   "execution_count": 2,
   "metadata": {},
   "outputs": [
    {
     "data": {
      "application/vnd.jupyter.widget-view+json": {
       "model_id": "662cafc15a134114ac78d5168ac59ba1",
       "version_major": 2,
       "version_minor": 0
      },
      "text/plain": [
       "VBox()"
      ]
     },
     "metadata": {},
     "output_type": "display_data"
    },
    {
     "data": {
      "application/vnd.jupyter.widget-view+json": {
       "model_id": "",
       "version_major": 2,
       "version_minor": 0
      },
      "text/plain": [
       "FloatProgress(value=0.0, bar_style='info', description='Progress:', layout=Layout(height='25px', width='50%'),…"
      ]
     },
     "metadata": {},
     "output_type": "display_data"
    },
    {
     "name": "stdout",
     "output_type": "stream",
     "text": [
      "Collecting pandas\n",
      "  Using cached https://files.pythonhosted.org/packages/bf/4c/cb7da76f3a5e077e545f9cf8575b8f488a4e8ad60490838f89c5cdd5bb57/pandas-1.1.4-cp37-cp37m-manylinux1_x86_64.whl\n",
      "Requirement already satisfied: numpy>=1.15.4 in /usr/local/lib64/python3.7/site-packages (from pandas)\n",
      "Requirement already satisfied: pytz>=2017.2 in /usr/local/lib/python3.7/site-packages (from pandas)\n",
      "Collecting python-dateutil>=2.7.3 (from pandas)\n",
      "  Using cached https://files.pythonhosted.org/packages/d4/70/d60450c3dd48ef87586924207ae8907090de0b306af2bce5d134d78615cb/python_dateutil-2.8.1-py2.py3-none-any.whl\n",
      "Requirement already satisfied: six>=1.5 in /usr/local/lib/python3.7/site-packages (from python-dateutil>=2.7.3->pandas)\n",
      "Installing collected packages: python-dateutil, pandas\n",
      "Successfully installed pandas-1.1.4 python-dateutil-2.8.1\n",
      "\n",
      "Collecting matplotlib\n",
      "  Using cached https://files.pythonhosted.org/packages/30/f2/10c822cb0ca5ebec58bd1892187bc3e3db64a867ac26531c6204663fc218/matplotlib-3.3.3-cp37-cp37m-manylinux1_x86_64.whl\n",
      "Requirement already satisfied: numpy>=1.15 in /usr/local/lib64/python3.7/site-packages (from matplotlib)\n",
      "Requirement already satisfied: python-dateutil>=2.1 in /mnt/tmp/1606217931849-0/lib/python3.7/site-packages (from matplotlib)\n",
      "Collecting pyparsing!=2.0.4,!=2.1.2,!=2.1.6,>=2.0.3 (from matplotlib)\n",
      "  Using cached https://files.pythonhosted.org/packages/8a/bb/488841f56197b13700afd5658fc279a2025a39e22449b7cf29864669b15d/pyparsing-2.4.7-py2.py3-none-any.whl\n",
      "Collecting pillow>=6.2.0 (from matplotlib)\n",
      "  Using cached https://files.pythonhosted.org/packages/af/fa/c1302a26d5e1a17fa8e10e43417b6cf038b0648c4b79fcf2302a4a0c5d30/Pillow-8.0.1-cp37-cp37m-manylinux1_x86_64.whl\n",
      "Collecting cycler>=0.10 (from matplotlib)\n",
      "  Using cached https://files.pythonhosted.org/packages/f7/d2/e07d3ebb2bd7af696440ce7e754c59dd546ffe1bbe732c8ab68b9c834e61/cycler-0.10.0-py2.py3-none-any.whl\n",
      "Collecting kiwisolver>=1.0.1 (from matplotlib)\n",
      "  Using cached https://files.pythonhosted.org/packages/d2/46/231de802ade4225b76b96cffe419cf3ce52bbe92e3b092cf12db7d11c207/kiwisolver-1.3.1-cp37-cp37m-manylinux1_x86_64.whl\n",
      "Requirement already satisfied: six>=1.5 in /usr/local/lib/python3.7/site-packages (from python-dateutil>=2.1->matplotlib)\n",
      "Installing collected packages: pyparsing, pillow, cycler, kiwisolver, matplotlib\n",
      "Successfully installed cycler-0.10.0 kiwisolver-1.3.1 matplotlib-3.3.3 pillow-8.0.1 pyparsing-2.4.7\n",
      "\n",
      "Collecting seaborn\n",
      "  Using cached https://files.pythonhosted.org/packages/bc/45/5118a05b0d61173e6eb12bc5804f0fbb6f196adb0a20e0b16efc2b8e98be/seaborn-0.11.0-py3-none-any.whl\n",
      "Requirement already satisfied: numpy>=1.15 in /usr/local/lib64/python3.7/site-packages (from seaborn)\n",
      "Collecting scipy>=1.0 (from seaborn)\n",
      "  Using cached https://files.pythonhosted.org/packages/dc/7e/8f6a79b102ca1ea928bae8998b05bf5dc24a90571db13cd119f275ba6252/scipy-1.5.4-cp37-cp37m-manylinux1_x86_64.whl\n",
      "Requirement already satisfied: matplotlib>=2.2 in /mnt/tmp/1606217931849-0/lib/python3.7/site-packages (from seaborn)\n",
      "Requirement already satisfied: pandas>=0.23 in /mnt/tmp/1606217931849-0/lib/python3.7/site-packages (from seaborn)\n",
      "Requirement already satisfied: python-dateutil>=2.1 in /mnt/tmp/1606217931849-0/lib/python3.7/site-packages (from matplotlib>=2.2->seaborn)\n",
      "Requirement already satisfied: pyparsing!=2.0.4,!=2.1.2,!=2.1.6,>=2.0.3 in /mnt/tmp/1606217931849-0/lib/python3.7/site-packages (from matplotlib>=2.2->seaborn)\n",
      "Requirement already satisfied: pillow>=6.2.0 in /mnt/tmp/1606217931849-0/lib/python3.7/site-packages (from matplotlib>=2.2->seaborn)\n",
      "Requirement already satisfied: cycler>=0.10 in /mnt/tmp/1606217931849-0/lib/python3.7/site-packages (from matplotlib>=2.2->seaborn)\n",
      "Requirement already satisfied: kiwisolver>=1.0.1 in /mnt/tmp/1606217931849-0/lib/python3.7/site-packages (from matplotlib>=2.2->seaborn)\n",
      "Requirement already satisfied: pytz>=2017.2 in /usr/local/lib/python3.7/site-packages (from pandas>=0.23->seaborn)\n",
      "Requirement already satisfied: six>=1.5 in /usr/local/lib/python3.7/site-packages (from python-dateutil>=2.1->matplotlib>=2.2->seaborn)\n",
      "Installing collected packages: scipy, seaborn\n",
      "Successfully installed scipy-1.5.4 seaborn-0.11.0\n",
      "\n",
      "Requirement already satisfied: scipy in /mnt/tmp/1606217931849-0/lib/python3.7/site-packages\n",
      "Requirement already satisfied: numpy>=1.14.5 in /usr/local/lib64/python3.7/site-packages (from scipy)"
     ]
    }
   ],
   "source": [
    "sc.install_pypi_package(\"pandas\")\n",
    "sc.install_pypi_package(\"matplotlib\")\n",
    "sc.install_pypi_package(\"seaborn\")\n",
    "sc.install_pypi_package(\"scipy\")"
   ]
  },
  {
   "cell_type": "code",
   "execution_count": 3,
   "metadata": {},
   "outputs": [
    {
     "data": {
      "application/vnd.jupyter.widget-view+json": {
       "model_id": "6456df9a903f4d3d9eb17d26a29805b5",
       "version_major": 2,
       "version_minor": 0
      },
      "text/plain": [
       "VBox()"
      ]
     },
     "metadata": {},
     "output_type": "display_data"
    },
    {
     "data": {
      "application/vnd.jupyter.widget-view+json": {
       "model_id": "",
       "version_major": 2,
       "version_minor": 0
      },
      "text/plain": [
       "FloatProgress(value=0.0, bar_style='info', description='Progress:', layout=Layout(height='25px', width='50%'),…"
      ]
     },
     "metadata": {},
     "output_type": "display_data"
    }
   ],
   "source": [
    "# import libraries\n",
    "import numpy as np\n",
    "import pandas as pd\n",
    "import matplotlib.pyplot as plt\n",
    "import seaborn as sns\n",
    "from scipy.sparse import csr_matrix\n",
    "from scipy.sparse.csgraph import connected_components\n",
    "from time import time\n",
    "\n",
    "from pyspark.sql import SparkSession, Window\n",
    "from pyspark.sql.functions import *\n",
    "from pyspark.sql.types import IntegerType\n",
    "\n",
    "from pyspark.ml.stat import Correlation\n",
    "from pyspark.ml.feature import MinMaxScaler, VectorAssembler\n",
    "from pyspark.ml import Pipeline\n",
    "from pyspark.ml.classification import LogisticRegression, RandomForestClassifier, GBTClassifier \n",
    "from pyspark.ml.tuning import CrossValidator, ParamGridBuilder\n",
    "from pyspark.ml.evaluation import BinaryClassificationEvaluator\n",
    "from pyspark.mllib.evaluation import MulticlassMetrics\n",
    "\n",
    "import warnings\n",
    "warnings.filterwarnings(\"ignore\")"
   ]
  },
  {
   "cell_type": "code",
   "execution_count": 4,
   "metadata": {},
   "outputs": [
    {
     "data": {
      "application/vnd.jupyter.widget-view+json": {
       "model_id": "fcb78d8558504964b0d77a7e58fb7b26",
       "version_major": 2,
       "version_minor": 0
      },
      "text/plain": [
       "VBox()"
      ]
     },
     "metadata": {},
     "output_type": "display_data"
    },
    {
     "data": {
      "application/vnd.jupyter.widget-view+json": {
       "model_id": "",
       "version_major": 2,
       "version_minor": 0
      },
      "text/plain": [
       "FloatProgress(value=0.0, bar_style='info', description='Progress:', layout=Layout(height='25px', width='50%'),…"
      ]
     },
     "metadata": {},
     "output_type": "display_data"
    },
    {
     "name": "stdout",
     "output_type": "stream",
     "text": [
      "root\n",
      " |-- artist: string (nullable = true)\n",
      " |-- auth: string (nullable = true)\n",
      " |-- firstName: string (nullable = true)\n",
      " |-- gender: string (nullable = true)\n",
      " |-- itemInSession: long (nullable = true)\n",
      " |-- lastName: string (nullable = true)\n",
      " |-- length: double (nullable = true)\n",
      " |-- level: string (nullable = true)\n",
      " |-- location: string (nullable = true)\n",
      " |-- method: string (nullable = true)\n",
      " |-- page: string (nullable = true)\n",
      " |-- registration: long (nullable = true)\n",
      " |-- sessionId: long (nullable = true)\n",
      " |-- song: string (nullable = true)\n",
      " |-- status: long (nullable = true)\n",
      " |-- ts: long (nullable = true)\n",
      " |-- userAgent: string (nullable = true)\n",
      " |-- userId: string (nullable = true)"
     ]
    }
   ],
   "source": [
    "# load the dataset \n",
    "df = spark.read.json(\"s3n://udacity-dsnd/sparkify/sparkify_event_data.json\")\n",
    "# check the schema of the dataset\n",
    "df.printSchema()"
   ]
  },
  {
   "cell_type": "code",
   "execution_count": 5,
   "metadata": {},
   "outputs": [
    {
     "data": {
      "application/vnd.jupyter.widget-view+json": {
       "model_id": "d11dec241a9e4590940375d4ec2bf7cc",
       "version_major": 2,
       "version_minor": 0
      },
      "text/plain": [
       "VBox()"
      ]
     },
     "metadata": {},
     "output_type": "display_data"
    },
    {
     "data": {
      "application/vnd.jupyter.widget-view+json": {
       "model_id": "",
       "version_major": 2,
       "version_minor": 0
      },
      "text/plain": [
       "FloatProgress(value=0.0, bar_style='info', description='Progress:', layout=Layout(height='25px', width='50%'),…"
      ]
     },
     "metadata": {},
     "output_type": "display_data"
    },
    {
     "name": "stdout",
     "output_type": "stream",
     "text": [
      "The dataset has 26259199 rows."
     ]
    }
   ],
   "source": [
    "print('The dataset has {} rows.'.format(df.count()))"
   ]
  },
  {
   "cell_type": "code",
   "execution_count": 6,
   "metadata": {},
   "outputs": [
    {
     "data": {
      "application/vnd.jupyter.widget-view+json": {
       "model_id": "431fa3d548964ccbb2b09d138fb2c83a",
       "version_major": 2,
       "version_minor": 0
      },
      "text/plain": [
       "VBox()"
      ]
     },
     "metadata": {},
     "output_type": "display_data"
    },
    {
     "data": {
      "application/vnd.jupyter.widget-view+json": {
       "model_id": "",
       "version_major": 2,
       "version_minor": 0
      },
      "text/plain": [
       "FloatProgress(value=0.0, bar_style='info', description='Progress:', layout=Layout(height='25px', width='50%'),…"
      ]
     },
     "metadata": {},
     "output_type": "display_data"
    },
    {
     "name": "stdout",
     "output_type": "stream",
     "text": [
      "+-------------------+\n",
      "|         Start time|\n",
      "+-------------------+\n",
      "|2018-10-01 00:00:01|\n",
      "+-------------------+"
     ]
    }
   ],
   "source": [
    "df.select(min(to_timestamp(col('ts')/1000)).alias('Start time')).show()"
   ]
  },
  {
   "cell_type": "code",
   "execution_count": 7,
   "metadata": {},
   "outputs": [
    {
     "data": {
      "application/vnd.jupyter.widget-view+json": {
       "model_id": "6551121bbd154739b1dadea9aecd8d65",
       "version_major": 2,
       "version_minor": 0
      },
      "text/plain": [
       "VBox()"
      ]
     },
     "metadata": {},
     "output_type": "display_data"
    },
    {
     "data": {
      "application/vnd.jupyter.widget-view+json": {
       "model_id": "",
       "version_major": 2,
       "version_minor": 0
      },
      "text/plain": [
       "FloatProgress(value=0.0, bar_style='info', description='Progress:', layout=Layout(height='25px', width='50%'),…"
      ]
     },
     "metadata": {},
     "output_type": "display_data"
    },
    {
     "name": "stdout",
     "output_type": "stream",
     "text": [
      "+-------------------+\n",
      "|           End time|\n",
      "+-------------------+\n",
      "|2018-12-01 00:00:02|\n",
      "+-------------------+"
     ]
    }
   ],
   "source": [
    "df.select(max(to_timestamp(col('ts')/1000)).alias('End time')).show()"
   ]
  },
  {
   "cell_type": "markdown",
   "metadata": {},
   "source": [
    "## Data Cleaning"
   ]
  },
  {
   "cell_type": "code",
   "execution_count": 8,
   "metadata": {},
   "outputs": [
    {
     "data": {
      "application/vnd.jupyter.widget-view+json": {
       "model_id": "ce2ef6a364b24bda84b1e32b5623ae74",
       "version_major": 2,
       "version_minor": 0
      },
      "text/plain": [
       "VBox()"
      ]
     },
     "metadata": {},
     "output_type": "display_data"
    },
    {
     "data": {
      "application/vnd.jupyter.widget-view+json": {
       "model_id": "",
       "version_major": 2,
       "version_minor": 0
      },
      "text/plain": [
       "FloatProgress(value=0.0, bar_style='info', description='Progress:', layout=Layout(height='25px', width='50%'),…"
      ]
     },
     "metadata": {},
     "output_type": "display_data"
    }
   ],
   "source": [
    "def clean_data(df):\n",
    "    \"\"\"Clean a Sparkify dataset \n",
    "    \n",
    "    Args:\n",
    "    df: (spark dataframe) a Sparkify dataset\n",
    "    \n",
    "    Returns:\n",
    "    df: (spark dataframe) a preprocessed Sparkify dataset\n",
    "    \"\"\"\n",
    "    # remove records when 'location' is null\n",
    "    df = df.filter(df['location'].isNotNull())\n",
    "    \n",
    "    # convert 'registration' and 'ts' to date format\n",
    "    df = df \\\n",
    "        .withColumn('registrationTime', to_timestamp(col('registration')/1000)) \\\n",
    "        .withColumn('time', to_timestamp(col('ts')/1000)) \n",
    "    \n",
    "    # replace location with first listed state \n",
    "    state_udf = udf(lambda x: x.split(', ')[1].split('-')[0])\n",
    "    df = df.withColumn('location', state_udf('location'))\n",
    "        \n",
    "    return df"
   ]
  },
  {
   "cell_type": "markdown",
   "metadata": {},
   "source": [
    "## Data Labeling"
   ]
  },
  {
   "cell_type": "code",
   "execution_count": 9,
   "metadata": {},
   "outputs": [
    {
     "data": {
      "application/vnd.jupyter.widget-view+json": {
       "model_id": "8c8e3b6bb8bb43478d53d189cdb50830",
       "version_major": 2,
       "version_minor": 0
      },
      "text/plain": [
       "VBox()"
      ]
     },
     "metadata": {},
     "output_type": "display_data"
    },
    {
     "data": {
      "application/vnd.jupyter.widget-view+json": {
       "model_id": "",
       "version_major": 2,
       "version_minor": 0
      },
      "text/plain": [
       "FloatProgress(value=0.0, bar_style='info', description='Progress:', layout=Layout(height='25px', width='50%'),…"
      ]
     },
     "metadata": {},
     "output_type": "display_data"
    }
   ],
   "source": [
    "def label_data(df, label='Churn'):\n",
    "    \"\"\"Add a label column to the Sparkify dataset \n",
    "    \n",
    "    Args:\n",
    "    df: (spark dataframe) a cleaned Sparkify dataset\n",
    "    label: (string) label name\n",
    "    \n",
    "    Returns:\n",
    "    df: (spark dataframe) a labeled Sparkify dataset\n",
    "    \"\"\"\n",
    "    userWindow = Window.partitionBy('userId').orderBy('ts').rangeBetween(Window.unboundedPreceding,Window.unboundedFollowing)\n",
    "\n",
    "    # label churned users to be 1 and unchurned users to be 0 \n",
    "    df = df \\\n",
    "        .withColumn(label, when(col('page')=='Cancellation Confirmation', 1).otherwise(0)) \\\n",
    "        .withColumn(label, max(label).over(userWindow))\n",
    "    \n",
    "    return df"
   ]
  },
  {
   "cell_type": "markdown",
   "metadata": {},
   "source": [
    "## Feature Engineering"
   ]
  },
  {
   "cell_type": "code",
   "execution_count": 10,
   "metadata": {},
   "outputs": [
    {
     "data": {
      "application/vnd.jupyter.widget-view+json": {
       "model_id": "210e1e6c38e040679557f9694502ecc8",
       "version_major": 2,
       "version_minor": 0
      },
      "text/plain": [
       "VBox()"
      ]
     },
     "metadata": {},
     "output_type": "display_data"
    },
    {
     "data": {
      "application/vnd.jupyter.widget-view+json": {
       "model_id": "",
       "version_major": 2,
       "version_minor": 0
      },
      "text/plain": [
       "FloatProgress(value=0.0, bar_style='info', description='Progress:', layout=Layout(height='25px', width='50%'),…"
      ]
     },
     "metadata": {},
     "output_type": "display_data"
    }
   ],
   "source": [
    "def build_features(df, label='Churn'):\n",
    "    \"\"\"Build features to be used for modeling\n",
    "    \n",
    "    Args:\n",
    "    df: (spark dataframe) a cleaned and labeled Sparkify dataset\n",
    "    label: (string) label name\n",
    "    \n",
    "    Returns:\n",
    "    user_df: (spark dataframe) a labeled dataset with features of interest grouped by user ids\n",
    "    \"\"\"\n",
    "    userWindow = Window.partitionBy('userId').orderBy('ts').rangeBetween(Window.unboundedPreceding,Window.unboundedFollowing)\n",
    "\n",
    "    # find the user's geographical division based on the location\n",
    "    path = \"s3://aws-emr-resources-622727603602-us-west-2/notebooks/e-D5SFL69E3FTYPOEVUORGSLR3C/us_regions.csv\"\n",
    "    region_df = spark.read.csv(path, header=True)\n",
    "    division_udf = udf(lambda x: 'location' + x.replace(' ', ''))\n",
    "    \n",
    "    location_df = df.select(['userId', 'location']).dropDuplicates(['userId'])\n",
    "    location_df = location_df.join(region_df, location_df['location']==region_df[\"State Code\"], how='left') \\\n",
    "        .select(['userId', col(\"Division\").alias(\"location\")]) \\\n",
    "        .withColumn('location', division_udf('location'))\n",
    "\n",
    "    # one hot encode the 'location' column by pivoting it \n",
    "    location_df = location_df.groupBy('userId').pivot('location').agg(count('location').cast(IntegerType())).fillna(0)\n",
    "    # remove the last column (or any one) to keep the binary columns independent\n",
    "    location_df = location_df.drop(location_df.columns[-1]) \n",
    "\n",
    "    # find the latest level of each user\n",
    "    df = df.withColumn('latestLevel', last(col('level')).over(userWindow))\n",
    "    \n",
    "    # calculate the duration between registration to last activity (in days)\n",
    "    regist_duration_df = df.groupBy('userId') \\\n",
    "        .agg(((last(col('ts'))-last(col('registration')))/1000/3600/24).alias('registDuration'))\n",
    "\n",
    "    # compute average session duration (in hours)\n",
    "    avg_session_duration_df = df \\\n",
    "        .groupBy(['userId', 'sessionId']).agg(min(col('ts')).alias('session_start'), max(col('ts')).alias('session_end'))\\\n",
    "        .groupBy('userId').agg(avg((col('session_end') - col('session_start'))/1000/3600).alias('avgSessionDuration'))\n",
    "\n",
    "    # find the latest level of each user\n",
    "    df = df.withColumn('latestLevel', last(col('level')).over(userWindow))\n",
    "\n",
    "    regist_duration_df = df.groupBy('userId') \\\n",
    "        .agg(((last(col('ts'))-last(col('registration')))/1000/3600/24).alias('registDuration'))\n",
    "\n",
    "    # compute average session duration (in hours)\n",
    "    avg_session_duration_df = df \\\n",
    "        .groupBy(['userId', 'sessionId']).agg(min(col('ts')).alias('session_start'), max(col('ts')).alias('session_end'))\\\n",
    "        .groupBy('userId').agg(avg((col('session_end') - col('session_start'))/1000/3600).alias('avgSessionDuration'))\n",
    "    \n",
    "    # define the default start and end of the observation period\n",
    "    obs_start_default = df.select(min(col('ts'))).collect()[0][0]\n",
    "    obs_end_default = df.select(max(col('ts'))).collect()[0][0]\n",
    "\n",
    "    # compute the observation period\n",
    "    df = df \\\n",
    "        .withColumn('obs_start', when(col('registration') > obs_start_default, first(col('ts')).over(userWindow)) \\\n",
    "                    .otherwise(obs_start_default)) \\\n",
    "        .withColumn('end_state', last(col('page')).over(userWindow)) \\\n",
    "        .withColumn('obs_end', when(col('end_state') == 'Cancellation Confirmation', last(col('ts')).over(userWindow)) \\\n",
    "                    .otherwise(obs_end_default)) \\\n",
    "        .withColumn('obsDays', (col('obs_end') - col('obs_start'))/1000/3600/24)\n",
    "\n",
    "    # aggregate activity statistics\n",
    "    user_df = df.groupBy('userId') \\\n",
    "        .agg(first(col(label)).alias(label), \\\n",
    "             first(when(col('gender') == 'M', 1).otherwise(0)).alias('gender'), \\\n",
    "             first(when(col('latestLevel') == 'paid', 1).otherwise(0)).alias('latestLevel'), \\\n",
    "             first(col('obsDays')).alias('obsDays'), \\\n",
    "             sum(when(col('page') == 'NextSong', 1).otherwise(0)).alias('nSongs'), \\\n",
    "             sum(when(col('page') == 'Thumbs Up', 1).otherwise(0)).alias('nThumbsUp'), \\\n",
    "             sum(when(col('page') == 'Thumbs Down', 1).otherwise(0)).alias('nThumbsDown'), \\\n",
    "             sum(when((col('page') == 'Upgrade') | (col('page') == 'Submit Upgrade'), 1).otherwise(0)).alias('nUpgrade'), \\\n",
    "             sum(when((col('page') == 'Downgrade') | (col('page') == 'Submit Downgrade'), 1).otherwise(0)).alias('nDowngrade'), \\\n",
    "             sum(when(col('page') == 'Add Friend', 1).otherwise(0)).alias('nAddFriend'), \\\n",
    "             sum(when(col('page') == 'Add to Playlist', 1).otherwise(0)).alias(\"nAddPlaylist\"), \\\n",
    "             sum(when(col('page') == 'Roll Advert', 1).otherwise(0)).alias('nAdvert'), \\\n",
    "             sum(when((col('page') == 'Help'), 1).otherwise(0)).alias('nHelp'), \\\n",
    "             sum(when((col('page') == 'Error'), 1).otherwise(0)).alias('nError')) \\\n",
    "        .join(location_df, on='userId') \\\n",
    "        .join(regist_duration_df, on='userId') \\\n",
    "        .join(avg_session_duration_df, on='userId')\n",
    "\n",
    "    user_df = user_df \\\n",
    "        .withColumn('avgDailySongs', col('nSongs') / col('obsDays')) \\\n",
    "        .withColumn('avgDailyThumbsUp', col('nThumbsUp') / col('obsDays')) \\\n",
    "        .withColumn('avgDailyThumbsDown', col('nThumbsDown') / col('obsDays')) \\\n",
    "        .withColumn('avgDailyUpgrade', col('nUpgrade') / col('obsDays')) \\\n",
    "        .withColumn('avgDailyDowngrade', col('nDowngrade') / col('obsDays')) \\\n",
    "        .withColumn('avgDailyAddFriend', col('nAddFriend') / col('obsDays')) \\\n",
    "        .withColumn('avgDailyAddPlaylist', col('nAddPlaylist') / col('obsDays')) \\\n",
    "        .withColumn('avgDailyAdvert', col('nAdvert') / col('obsDays')) \\\n",
    "        .withColumn('avgDailyHelp', col('nHelp') / col('obsDays')) \\\n",
    "        .withColumn('avgDailyError', col('nError') / col('obsDays')) \\\n",
    "        .drop('userId', 'obsDays', 'nSongs', 'nThumbsUp', 'nThumbsDown', 'nUpgrade', 'nDowngrade', \\\n",
    "              'nAddFriend', 'nAddPlaylist', 'nAdvert', 'nHelp', 'nError')\n",
    "    \n",
    "    return user_df"
   ]
  },
  {
   "cell_type": "code",
   "execution_count": 11,
   "metadata": {},
   "outputs": [
    {
     "data": {
      "application/vnd.jupyter.widget-view+json": {
       "model_id": "92c39017150c412f9c4eecf1b7229173",
       "version_major": 2,
       "version_minor": 0
      },
      "text/plain": [
       "VBox()"
      ]
     },
     "metadata": {},
     "output_type": "display_data"
    },
    {
     "data": {
      "application/vnd.jupyter.widget-view+json": {
       "model_id": "",
       "version_major": 2,
       "version_minor": 0
      },
      "text/plain": [
       "FloatProgress(value=0.0, bar_style='info', description='Progress:', layout=Layout(height='25px', width='50%'),…"
      ]
     },
     "metadata": {},
     "output_type": "display_data"
    }
   ],
   "source": [
    "def drop_multicollinear_features(user_df, label='Churn', threshold=0.85):\n",
    "    \"\"\"Drop highly correlated features to avoid multicollinearity\n",
    "    \n",
    "    Args:\n",
    "    user_df: (spark dataframe) a labeled dataset with binary and numerical features\n",
    "    label: (string) label name\n",
    "    threshold: (float) the threshold of high correlation\n",
    "    \n",
    "    Returns:\n",
    "    model_df: (spark dataframe) a labeled dataset after removal of multicollinear features\n",
    "    \"\"\"\n",
    "    vec_col = 'corr_features'\n",
    "   \n",
    "    # assemble all vector columns into one vector column\n",
    "    assembler = VectorAssembler(inputCols=user_df.columns, outputCol=vec_col)\n",
    "    corr_df = assembler.transform(user_df).select(vec_col)\n",
    "\n",
    "    # compute the correlation between 'churn' and every feature and the correlation between each pair of features\n",
    "    corr_mat = Correlation.corr(corr_df, vec_col)\n",
    "    # convert the corrlation matrix to a pandas dataframe with column names\n",
    "    corr_values = corr_mat.collect()[0][0].values\n",
    "    corr_mat_pd = pd.DataFrame(corr_values.reshape(-1, len(user_df.columns)), \\\n",
    "                           index=user_df.columns, columns=user_df.columns)\n",
    "    \n",
    "    # construct an adjacency matrix where high correlation is labeled as 1, otherwise 0\n",
    "    is_high_corr = corr_mat_pd.values > threshold\n",
    "    adj_mat = csr_matrix(is_high_corr.astype(int) - np.identity(len(user_df.columns)))\n",
    "\n",
    "    # find groups of highly correlated features by finding the connected components in the adjacency matrix\n",
    "    _, corr_labels = connected_components(csgraph=adj_mat, directed=False)\n",
    "    unique, unique_counts = np.unique(corr_labels, return_counts=True)\n",
    "    # get groups with size > 1\n",
    "    high_corr_labels = unique[unique_counts > 1]\n",
    "\n",
    "    # if there is at least one group of highly correlated features\n",
    "    if len(high_corr_labels) > 0:\n",
    "        # map the label indices of highly correlated features to their column names\n",
    "        print('Highly correlated features include:')\n",
    "        high_corr_col_dict = {}\n",
    "        for high_corr_label in high_corr_labels:\n",
    "            high_corr_col_dict[high_corr_label] = [col_name for corr_label, col_name in zip(corr_labels, user_df.columns) \n",
    "                                               if corr_label == high_corr_label]\n",
    "            print(high_corr_col_dict[high_corr_label])\n",
    "        \n",
    "        print('\\nFeatures to keep:')\n",
    "        cols_to_drop = []\n",
    "        for col_name_list in high_corr_col_dict.values(): \n",
    "            # keep the feature that has the highest correlation with the response variable\n",
    "            col_to_keep = corr_mat_pd.loc[col_name_list, label].idxmax()\n",
    "            print(col_to_keep)\n",
    "            # remove the other features to avoid multicolinearity \n",
    "            col_name_list.remove(col_to_keep)\n",
    "            corr_mat_pd.drop(index=col_name_list, columns=col_name_list, inplace=True)\n",
    "            cols_to_drop.extend(col_name_list)\n",
    "            \n",
    "    model_df = user_df.drop(*cols_to_drop)\n",
    "    \n",
    "    return model_df"
   ]
  },
  {
   "cell_type": "markdown",
   "metadata": {},
   "source": [
    "## Modeling and Evaluation"
   ]
  },
  {
   "cell_type": "code",
   "execution_count": 12,
   "metadata": {},
   "outputs": [
    {
     "data": {
      "application/vnd.jupyter.widget-view+json": {
       "model_id": "7ae60b389af144769e84558796ab9f6f",
       "version_major": 2,
       "version_minor": 0
      },
      "text/plain": [
       "VBox()"
      ]
     },
     "metadata": {},
     "output_type": "display_data"
    },
    {
     "data": {
      "application/vnd.jupyter.widget-view+json": {
       "model_id": "",
       "version_major": 2,
       "version_minor": 0
      },
      "text/plain": [
       "FloatProgress(value=0.0, bar_style='info', description='Progress:', layout=Layout(height='25px', width='50%'),…"
      ]
     },
     "metadata": {},
     "output_type": "display_data"
    }
   ],
   "source": [
    "def split_train_test(model_df, fraction, label='Churn', seed=2020):\n",
    "    \"\"\"Split the dataset into a training and a test set using stratified sampling based on the label column\n",
    "    \n",
    "    Args:\n",
    "    model_df: (spark dataframe) a labeled dataset with binary and numerical features\n",
    "    fraction: (float) the fraction of the dataset used for training\n",
    "    label: (string) label name\n",
    "    seed: (int) a nonnegative integer \n",
    "    \n",
    "    Returns:\n",
    "    train: (spark dataframe) a training set\n",
    "    test: (spark dataframe) a test set\n",
    "    \"\"\"\n",
    "    train = model_df.sampleBy(label, fractions={0: fraction, 1: fraction}, seed=2020)\n",
    "    test = model_df.subtract(train)\n",
    "    \n",
    "    return train, test"
   ]
  },
  {
   "cell_type": "code",
   "execution_count": 13,
   "metadata": {},
   "outputs": [
    {
     "data": {
      "application/vnd.jupyter.widget-view+json": {
       "model_id": "853e316bbe624497b4aaf62c3d3ddd9a",
       "version_major": 2,
       "version_minor": 0
      },
      "text/plain": [
       "VBox()"
      ]
     },
     "metadata": {},
     "output_type": "display_data"
    },
    {
     "data": {
      "application/vnd.jupyter.widget-view+json": {
       "model_id": "",
       "version_major": 2,
       "version_minor": 0
      },
      "text/plain": [
       "FloatProgress(value=0.0, bar_style='info', description='Progress:', layout=Layout(height='25px', width='50%'),…"
      ]
     },
     "metadata": {},
     "output_type": "display_data"
    }
   ],
   "source": [
    "def print_metrics(pred, label='Churn'):\n",
    "    \"\"\"Print evaluation metrics on a test set\n",
    "    \n",
    "    Args:\n",
    "    pred: (spark dataframe) a test set \n",
    "    \n",
    "    Returns:\n",
    "    summary: (pandas dataframe) a summary of evaluation metrics\n",
    "    \"\"\"\n",
    "    eval_metrics = {}\n",
    "\n",
    "    # compute area under PR curve\n",
    "    evaluator = BinaryClassificationEvaluator(labelCol=label)\n",
    "    auc_pr = evaluator.evaluate(pred, {evaluator.metricName:'areaUnderPR'})\n",
    "\n",
    "    # compute precision, recall and f1 score\n",
    "    predictionAndLabels = pred.select('prediction', label)\n",
    "    # both 'prediction' and label in predictionAndLabels need to be cast to float type and \n",
    "    # map to tuple before calling 'MulticlassMetrics'\n",
    "    metrics = MulticlassMetrics(predictionAndLabels.rdd.map(lambda x: tuple(map(float, x))))\n",
    "\n",
    "    # get overall statistics\n",
    "    eval_metrics['overall'] = [metrics.weightedPrecision, metrics.weightedRecall, \\\n",
    "                               metrics.weightedFMeasure(), auc_pr]\n",
    "\n",
    "    # get statistics by class\n",
    "    classes = [0.0, 1.0]\n",
    "    for cls in classes:\n",
    "        eval_metrics['class ' + str(int(cls))] = [metrics.precision(cls), metrics.recall(cls), \\\n",
    "                                                  metrics.fMeasure(cls), '']\n",
    "\n",
    "    # convert to a pandas dataframe for display\n",
    "    summary = pd.DataFrame.from_dict(eval_metrics, orient='index', \\\n",
    "                                     columns=['precision', 'recall', 'f1 score', 'AUC-PR'])   \n",
    "    \n",
    "    return summary"
   ]
  },
  {
   "cell_type": "code",
   "execution_count": 14,
   "metadata": {},
   "outputs": [
    {
     "data": {
      "application/vnd.jupyter.widget-view+json": {
       "model_id": "8df550bbb0f34b879d7d025477ebc890",
       "version_major": 2,
       "version_minor": 0
      },
      "text/plain": [
       "VBox()"
      ]
     },
     "metadata": {},
     "output_type": "display_data"
    },
    {
     "data": {
      "application/vnd.jupyter.widget-view+json": {
       "model_id": "",
       "version_major": 2,
       "version_minor": 0
      },
      "text/plain": [
       "FloatProgress(value=0.0, bar_style='info', description='Progress:', layout=Layout(height='25px', width='50%'),…"
      ]
     },
     "metadata": {},
     "output_type": "display_data"
    }
   ],
   "source": [
    "def build_pipeline(bin_cols, num_cols, label='Churn', seed=2020):\n",
    "    \"\"\"Build a pipeline using a random forest classifier for training\n",
    "    \n",
    "    Args:\n",
    "    bin_cols: (list) a list of binary columns\n",
    "    num_cols: (list) a list of numerical columns\n",
    "    label: (string) label name\n",
    "    seed: (int) a nonnegative integer \n",
    "    \n",
    "    Returns:\n",
    "    pipeline_rf: (Pipeline object) a sequence of stages with the last stage to be a random forest classifier \n",
    "    \"\"\"\n",
    "    # assemble numerical columns to a single vector column \n",
    "    num_assembler = VectorAssembler(inputCols=num_cols, outputCol='num_features')\n",
    "    \n",
    "    # scale each numberical feature within the range [0,1] \n",
    "    scaler = MinMaxScaler(inputCol='num_features', outputCol='scaled_features')\n",
    "    \n",
    "    # assemble all vector columns into one vector column\n",
    "    assembler = VectorAssembler(inputCols=bin_cols + ['scaled_features'], outputCol='features')\n",
    "\n",
    "    # random forest classifier\n",
    "    rf = RandomForestClassifier(featuresCol='features', labelCol=label, seed=seed)\n",
    "    pipeline_rf = Pipeline(stages=[num_assembler, scaler, assembler, rf])\n",
    "    \n",
    "    return pipeline_rf"
   ]
  },
  {
   "cell_type": "code",
   "execution_count": 15,
   "metadata": {},
   "outputs": [
    {
     "data": {
      "application/vnd.jupyter.widget-view+json": {
       "model_id": "322825a303524db09ab5ecc5dc88a067",
       "version_major": 2,
       "version_minor": 0
      },
      "text/plain": [
       "VBox()"
      ]
     },
     "metadata": {},
     "output_type": "display_data"
    },
    {
     "data": {
      "application/vnd.jupyter.widget-view+json": {
       "model_id": "",
       "version_major": 2,
       "version_minor": 0
      },
      "text/plain": [
       "FloatProgress(value=0.0, bar_style='info', description='Progress:', layout=Layout(height='25px', width='50%'),…"
      ]
     },
     "metadata": {},
     "output_type": "display_data"
    }
   ],
   "source": [
    "def tune_rf(train, pipeline_rf, numTrees=[100, 200], maxDepth=[4, 5], label='Churn'):\n",
    "    \"\"\"Tune the hyperameters of the random forest classifier using grid search with cross validation\n",
    "    \n",
    "    Args:\n",
    "    train: (spark dataframe) a training set\n",
    "    pipeline_rf: (Pipeline object) a sequence of stages with the last stage to be a random forest classifier \n",
    "    numTrees: (list) number of trees\n",
    "    maxDepth: (list) maximum tree depth\n",
    "    \n",
    "    Returns:\n",
    "    cv_rf: (CrossValidator object) a cross validation model trained by the random forest classifier\n",
    "    \"\"\"\n",
    "    # set hyperparameters for tuning\n",
    "    paramGrid = ParamGridBuilder() \\\n",
    "                .addGrid(pipeline_rf.getStages()[-1].numTrees, numTrees) \\\n",
    "                .addGrid(pipeline_rf.getStages()[-1].maxDepth, maxDepth) \\\n",
    "                .build()  \n",
    "\n",
    "    # grid search with cross validation    \n",
    "    crossval_rf = CrossValidator(estimator = pipeline_rf,\n",
    "                                 estimatorParamMaps = paramGrid,\n",
    "                                 evaluator = BinaryClassificationEvaluator(labelCol=label, metricName='areaUnderPR'),\n",
    "                                 numFolds = 4)\n",
    "\n",
    "    start = time()\n",
    "    cv_rf = crossval_rf.fit(train)\n",
    "    end = time()\n",
    "    print('Total training time for hyperparameter tuning on random forest classifier: {:.0f} seconds'.format(end - start))\n",
    "    \n",
    "    return cv_rf"
   ]
  },
  {
   "cell_type": "markdown",
   "metadata": {},
   "source": [
    "## End to End Workflow"
   ]
  },
  {
   "cell_type": "code",
   "execution_count": 16,
   "metadata": {},
   "outputs": [
    {
     "data": {
      "application/vnd.jupyter.widget-view+json": {
       "model_id": "02a3f18f5ebf49ce9cb43cbe84476588",
       "version_major": 2,
       "version_minor": 0
      },
      "text/plain": [
       "VBox()"
      ]
     },
     "metadata": {},
     "output_type": "display_data"
    },
    {
     "data": {
      "application/vnd.jupyter.widget-view+json": {
       "model_id": "",
       "version_major": 2,
       "version_minor": 0
      },
      "text/plain": [
       "FloatProgress(value=0.0, bar_style='info', description='Progress:', layout=Layout(height='25px', width='50%'),…"
      ]
     },
     "metadata": {},
     "output_type": "display_data"
    },
    {
     "name": "stdout",
     "output_type": "stream",
     "text": [
      "+-----+-----+\n",
      "|Churn|count|\n",
      "+-----+-----+\n",
      "|    1| 5003|\n",
      "|    0|17274|\n",
      "+-----+-----+"
     ]
    }
   ],
   "source": [
    "df = clean_data(df)\n",
    "df = label_data(df)\n",
    "df.dropDuplicates(['userId']).groupby('Churn').count().show()"
   ]
  },
  {
   "cell_type": "code",
   "execution_count": 17,
   "metadata": {},
   "outputs": [
    {
     "data": {
      "application/vnd.jupyter.widget-view+json": {
       "model_id": "fb9c8c8367fd40648d2ee05c376ad49d",
       "version_major": 2,
       "version_minor": 0
      },
      "text/plain": [
       "VBox()"
      ]
     },
     "metadata": {},
     "output_type": "display_data"
    },
    {
     "data": {
      "application/vnd.jupyter.widget-view+json": {
       "model_id": "",
       "version_major": 2,
       "version_minor": 0
      },
      "text/plain": [
       "FloatProgress(value=0.0, bar_style='info', description='Progress:', layout=Layout(height='25px', width='50%'),…"
      ]
     },
     "metadata": {},
     "output_type": "display_data"
    },
    {
     "name": "stdout",
     "output_type": "stream",
     "text": [
      "Highly correlated features include:\n",
      "['avgDailySongs', 'avgDailyThumbsUp', 'avgDailyAddPlaylist']\n",
      "\n",
      "Features to keep:\n",
      "avgDailySongs\n",
      "\n",
      "The schema of the model for training:\n",
      "root\n",
      " |-- Churn: integer (nullable = true)\n",
      " |-- gender: integer (nullable = true)\n",
      " |-- latestLevel: integer (nullable = true)\n",
      " |-- locationEastNorthCentral: integer (nullable = true)\n",
      " |-- locationEastSouthCentral: integer (nullable = true)\n",
      " |-- locationMiddleAtlantic: integer (nullable = true)\n",
      " |-- locationMountain: integer (nullable = true)\n",
      " |-- locationNewEngland: integer (nullable = true)\n",
      " |-- locationPacific: integer (nullable = true)\n",
      " |-- locationSouthAtlantic: integer (nullable = true)\n",
      " |-- locationWestNorthCentral: integer (nullable = true)\n",
      " |-- registDuration: double (nullable = true)\n",
      " |-- avgSessionDuration: double (nullable = true)\n",
      " |-- avgDailySongs: double (nullable = true)\n",
      " |-- avgDailyThumbsDown: double (nullable = true)\n",
      " |-- avgDailyUpgrade: double (nullable = true)\n",
      " |-- avgDailyDowngrade: double (nullable = true)\n",
      " |-- avgDailyAddFriend: double (nullable = true)\n",
      " |-- avgDailyAdvert: double (nullable = true)\n",
      " |-- avgDailyHelp: double (nullable = true)\n",
      " |-- avgDailyError: double (nullable = true)"
     ]
    }
   ],
   "source": [
    "user_df = build_features(df)\n",
    "model_df = drop_multicollinear_features(user_df)\n",
    "print('\\nThe schema of the model for training:')\n",
    "model_df.printSchema()"
   ]
  },
  {
   "cell_type": "code",
   "execution_count": 18,
   "metadata": {},
   "outputs": [
    {
     "data": {
      "application/vnd.jupyter.widget-view+json": {
       "model_id": "11d61bdfdadd433e8f9b6e0904b47b85",
       "version_major": 2,
       "version_minor": 0
      },
      "text/plain": [
       "VBox()"
      ]
     },
     "metadata": {},
     "output_type": "display_data"
    },
    {
     "data": {
      "application/vnd.jupyter.widget-view+json": {
       "model_id": "",
       "version_major": 2,
       "version_minor": 0
      },
      "text/plain": [
       "FloatProgress(value=0.0, bar_style='info', description='Progress:', layout=Layout(height='25px', width='50%'),…"
      ]
     },
     "metadata": {},
     "output_type": "display_data"
    },
    {
     "name": "stdout",
     "output_type": "stream",
     "text": [
      "Total training time for hyperparameter tuning on random forest classifier: 4743 seconds"
     ]
    }
   ],
   "source": [
    "train, test = split_train_test(model_df, fraction=0.8)\n",
    "num_cols = [field.name for field in model_df.schema.fields if field.dataType != IntegerType()]\n",
    "bin_cols = [col for col in model_df.columns if col not in num_cols + ['Churn']]\n",
    "pipeline_rf = build_pipeline(bin_cols, num_cols)\n",
    "cv_rf = tune_rf(train, pipeline_rf)"
   ]
  },
  {
   "cell_type": "code",
   "execution_count": 19,
   "metadata": {},
   "outputs": [
    {
     "data": {
      "application/vnd.jupyter.widget-view+json": {
       "model_id": "15b914200bb94b8897a564a2adbc97c9",
       "version_major": 2,
       "version_minor": 0
      },
      "text/plain": [
       "VBox()"
      ]
     },
     "metadata": {},
     "output_type": "display_data"
    },
    {
     "data": {
      "application/vnd.jupyter.widget-view+json": {
       "model_id": "",
       "version_major": 2,
       "version_minor": 0
      },
      "text/plain": [
       "FloatProgress(value=0.0, bar_style='info', description='Progress:', layout=Layout(height='25px', width='50%'),…"
      ]
     },
     "metadata": {},
     "output_type": "display_data"
    },
    {
     "name": "stdout",
     "output_type": "stream",
     "text": [
      "   numTrees  maxDepth    AUC-PR\n",
      "0       100         4  0.728003\n",
      "1       100         5  0.751440\n",
      "2       200         4  0.732818\n",
      "3       200         5  0.754571"
     ]
    }
   ],
   "source": [
    "# store grid search results in a dataframe\n",
    "params = [{p.name: v for p, v in m.items()} for m in cv_rf.getEstimatorParamMaps()]\n",
    "params_pd = pd.DataFrame(params)\n",
    "params_pd['AUC-PR'] = cv_rf.avgMetrics\n",
    "params_pd"
   ]
  },
  {
   "cell_type": "code",
   "execution_count": 20,
   "metadata": {},
   "outputs": [
    {
     "data": {
      "application/vnd.jupyter.widget-view+json": {
       "model_id": "79827c51fdc54169b69cb3e3a7e986dd",
       "version_major": 2,
       "version_minor": 0
      },
      "text/plain": [
       "VBox()"
      ]
     },
     "metadata": {},
     "output_type": "display_data"
    },
    {
     "data": {
      "application/vnd.jupyter.widget-view+json": {
       "model_id": "",
       "version_major": 2,
       "version_minor": 0
      },
      "text/plain": [
       "FloatProgress(value=0.0, bar_style='info', description='Progress:', layout=Layout(height='25px', width='50%'),…"
      ]
     },
     "metadata": {},
     "output_type": "display_data"
    },
    {
     "name": "stdout",
     "output_type": "stream",
     "text": [
      "         precision    recall  f1 score    AUC-PR\n",
      "overall   0.863558  0.866794  0.851038  0.730413\n",
      "class 0   0.870685  0.976224  0.920439          \n",
      "class 1   0.836863  0.456875  0.591065"
     ]
    }
   ],
   "source": [
    "test_prediction = cv_rf.transform(test)\n",
    "print_metrics(test_prediction)"
   ]
  },
  {
   "cell_type": "code",
   "execution_count": 24,
   "metadata": {},
   "outputs": [
    {
     "data": {
      "application/vnd.jupyter.widget-view+json": {
       "model_id": "dfd2006c444342b2a2fb6f95c73ec01e",
       "version_major": 2,
       "version_minor": 0
      },
      "text/plain": [
       "VBox()"
      ]
     },
     "metadata": {},
     "output_type": "display_data"
    },
    {
     "data": {
      "application/vnd.jupyter.widget-view+json": {
       "model_id": "",
       "version_major": 2,
       "version_minor": 0
      },
      "text/plain": [
       "FloatProgress(value=0.0, bar_style='info', description='Progress:', layout=Layout(height='25px', width='50%'),…"
      ]
     },
     "metadata": {},
     "output_type": "display_data"
    },
    {
     "name": "stdout",
     "output_type": "stream",
     "text": [
      "                     feature  importance\n",
      "17            avgDailyAdvert    0.231323\n",
      "10            registDuration    0.206582\n",
      "14           avgDailyUpgrade    0.154782\n",
      "13        avgDailyThumbsDown    0.117627\n",
      "15         avgDailyDowngrade    0.087892\n",
      "19             avgDailyError    0.061178\n",
      "12             avgDailySongs    0.053208\n",
      "18              avgDailyHelp    0.039779\n",
      "16         avgDailyAddFriend    0.036493\n",
      "11        avgSessionDuration    0.007662\n",
      "1                latestLevel    0.002504\n",
      "9   locationWestNorthCentral    0.000180\n",
      "5           locationMountain    0.000171\n",
      "3   locationEastSouthCentral    0.000119\n",
      "7            locationPacific    0.000105\n",
      "4     locationMiddleAtlantic    0.000103\n",
      "6         locationNewEngland    0.000091\n",
      "0                     gender    0.000083\n",
      "8      locationSouthAtlantic    0.000061\n",
      "2   locationEastNorthCentral    0.000058"
     ]
    }
   ],
   "source": [
    "features = bin_cols + num_cols\n",
    "importances = list(cv_rf.bestModel.stages[-1].featureImportances)\n",
    "feat_imp_pd = pd.DataFrame({'feature': features, 'importance': importances}).sort_values('importance', ascending = False)\n",
    "feat_imp_pd"
   ]
  }
 ],
 "metadata": {
  "kernelspec": {
   "display_name": "PySpark",
   "language": "",
   "name": "pysparkkernel"
  },
  "language_info": {
   "codemirror_mode": {
    "name": "python",
    "version": 2
   },
   "mimetype": "text/x-python",
   "name": "pyspark",
   "pygments_lexer": "python2"
  }
 },
 "nbformat": 4,
 "nbformat_minor": 4
}
