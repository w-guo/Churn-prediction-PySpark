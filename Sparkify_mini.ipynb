{
 "cells": [
  {
   "cell_type": "markdown",
   "metadata": {},
   "source": [
    "# Customer Churn Prediction for Sparkify using PySpark\n",
    "\n",
    "This notebook is used to explore a smaller subset (128MB) of the full dataset with Spark before deploying the cluster on the cloud. "
   ]
  },
  {
   "cell_type": "code",
   "execution_count": 1,
   "metadata": {},
   "outputs": [],
   "source": [
    "# import libraries\n",
    "import numpy as np\n",
    "import pandas as pd\n",
    "import matplotlib.pyplot as plt\n",
    "import seaborn as sns\n",
    "from scipy.sparse import csr_matrix\n",
    "from scipy.sparse.csgraph import connected_components\n",
    "from time import time\n",
    "\n",
    "from pyspark.sql import SparkSession, Window\n",
    "from pyspark.sql.functions import *\n",
    "from pyspark.sql.types import IntegerType\n",
    "\n",
    "from pyspark.ml.stat import Correlation\n",
    "from pyspark.ml.feature import MinMaxScaler, VectorAssembler\n",
    "from pyspark.ml import Pipeline\n",
    "from pyspark.ml.classification import LogisticRegression, RandomForestClassifier, GBTClassifier \n",
    "from pyspark.ml.tuning import CrossValidator, ParamGridBuilder\n",
    "from pyspark.ml.evaluation import BinaryClassificationEvaluator\n",
    "from pyspark.mllib.evaluation import MulticlassMetrics\n",
    "\n",
    "import warnings\n",
    "warnings.filterwarnings(\"ignore\")"
   ]
  },
  {
   "cell_type": "code",
   "execution_count": 2,
   "metadata": {},
   "outputs": [],
   "source": [
    "# create a Spark session\n",
    "spark = SparkSession.builder.master(\"local[*]\").appName(\"Sparkify\").getOrCreate()"
   ]
  },
  {
   "cell_type": "markdown",
   "metadata": {},
   "source": [
    "## Data Cleaning"
   ]
  },
  {
   "cell_type": "code",
   "execution_count": 3,
   "metadata": {},
   "outputs": [
    {
     "name": "stdout",
     "output_type": "stream",
     "text": [
      "root\n",
      " |-- artist: string (nullable = true)\n",
      " |-- auth: string (nullable = true)\n",
      " |-- firstName: string (nullable = true)\n",
      " |-- gender: string (nullable = true)\n",
      " |-- itemInSession: long (nullable = true)\n",
      " |-- lastName: string (nullable = true)\n",
      " |-- length: double (nullable = true)\n",
      " |-- level: string (nullable = true)\n",
      " |-- location: string (nullable = true)\n",
      " |-- method: string (nullable = true)\n",
      " |-- page: string (nullable = true)\n",
      " |-- registration: long (nullable = true)\n",
      " |-- sessionId: long (nullable = true)\n",
      " |-- song: string (nullable = true)\n",
      " |-- status: long (nullable = true)\n",
      " |-- ts: long (nullable = true)\n",
      " |-- userAgent: string (nullable = true)\n",
      " |-- userId: string (nullable = true)\n",
      "\n"
     ]
    }
   ],
   "source": [
    "# load the dataset \n",
    "df = spark.read.json(\"mini_sparkify_event_data.json\")\n",
    "# check the schema of the dataset\n",
    "df.printSchema()"
   ]
  },
  {
   "cell_type": "code",
   "execution_count": 4,
   "metadata": {},
   "outputs": [
    {
     "name": "stdout",
     "output_type": "stream",
     "text": [
      "The dataset has 286500 rows.\n"
     ]
    }
   ],
   "source": [
    "print('The dataset has {} rows.'.format(df.count()))"
   ]
  },
  {
   "cell_type": "code",
   "execution_count": 5,
   "metadata": {},
   "outputs": [
    {
     "data": {
      "text/html": [
       "<div>\n",
       "<style scoped>\n",
       "    .dataframe tbody tr th:only-of-type {\n",
       "        vertical-align: middle;\n",
       "    }\n",
       "\n",
       "    .dataframe tbody tr th {\n",
       "        vertical-align: top;\n",
       "    }\n",
       "\n",
       "    .dataframe thead th {\n",
       "        text-align: right;\n",
       "    }\n",
       "</style>\n",
       "<table border=\"1\" class=\"dataframe\">\n",
       "  <thead>\n",
       "    <tr style=\"text-align: right;\">\n",
       "      <th></th>\n",
       "      <th>artist</th>\n",
       "      <th>auth</th>\n",
       "      <th>firstName</th>\n",
       "      <th>gender</th>\n",
       "      <th>itemInSession</th>\n",
       "      <th>lastName</th>\n",
       "      <th>length</th>\n",
       "      <th>level</th>\n",
       "      <th>location</th>\n",
       "      <th>method</th>\n",
       "      <th>page</th>\n",
       "      <th>registration</th>\n",
       "      <th>sessionId</th>\n",
       "      <th>song</th>\n",
       "      <th>status</th>\n",
       "      <th>ts</th>\n",
       "      <th>userAgent</th>\n",
       "      <th>userId</th>\n",
       "    </tr>\n",
       "  </thead>\n",
       "  <tbody>\n",
       "    <tr>\n",
       "      <th>0</th>\n",
       "      <td>Martha Tilston</td>\n",
       "      <td>Logged In</td>\n",
       "      <td>Colin</td>\n",
       "      <td>M</td>\n",
       "      <td>50</td>\n",
       "      <td>Freeman</td>\n",
       "      <td>277.89016</td>\n",
       "      <td>paid</td>\n",
       "      <td>Bakersfield, CA</td>\n",
       "      <td>PUT</td>\n",
       "      <td>NextSong</td>\n",
       "      <td>1538173362000</td>\n",
       "      <td>29</td>\n",
       "      <td>Rockpools</td>\n",
       "      <td>200</td>\n",
       "      <td>1538352117000</td>\n",
       "      <td>Mozilla/5.0 (Windows NT 6.1; WOW64; rv:31.0) G...</td>\n",
       "      <td>30</td>\n",
       "    </tr>\n",
       "    <tr>\n",
       "      <th>1</th>\n",
       "      <td>Five Iron Frenzy</td>\n",
       "      <td>Logged In</td>\n",
       "      <td>Micah</td>\n",
       "      <td>M</td>\n",
       "      <td>79</td>\n",
       "      <td>Long</td>\n",
       "      <td>236.09424</td>\n",
       "      <td>free</td>\n",
       "      <td>Boston-Cambridge-Newton, MA-NH</td>\n",
       "      <td>PUT</td>\n",
       "      <td>NextSong</td>\n",
       "      <td>1538331630000</td>\n",
       "      <td>8</td>\n",
       "      <td>Canada</td>\n",
       "      <td>200</td>\n",
       "      <td>1538352180000</td>\n",
       "      <td>\"Mozilla/5.0 (Windows NT 6.1; WOW64) AppleWebK...</td>\n",
       "      <td>9</td>\n",
       "    </tr>\n",
       "    <tr>\n",
       "      <th>2</th>\n",
       "      <td>Adam Lambert</td>\n",
       "      <td>Logged In</td>\n",
       "      <td>Colin</td>\n",
       "      <td>M</td>\n",
       "      <td>51</td>\n",
       "      <td>Freeman</td>\n",
       "      <td>282.82730</td>\n",
       "      <td>paid</td>\n",
       "      <td>Bakersfield, CA</td>\n",
       "      <td>PUT</td>\n",
       "      <td>NextSong</td>\n",
       "      <td>1538173362000</td>\n",
       "      <td>29</td>\n",
       "      <td>Time For Miracles</td>\n",
       "      <td>200</td>\n",
       "      <td>1538352394000</td>\n",
       "      <td>Mozilla/5.0 (Windows NT 6.1; WOW64; rv:31.0) G...</td>\n",
       "      <td>30</td>\n",
       "    </tr>\n",
       "    <tr>\n",
       "      <th>3</th>\n",
       "      <td>Enigma</td>\n",
       "      <td>Logged In</td>\n",
       "      <td>Micah</td>\n",
       "      <td>M</td>\n",
       "      <td>80</td>\n",
       "      <td>Long</td>\n",
       "      <td>262.71302</td>\n",
       "      <td>free</td>\n",
       "      <td>Boston-Cambridge-Newton, MA-NH</td>\n",
       "      <td>PUT</td>\n",
       "      <td>NextSong</td>\n",
       "      <td>1538331630000</td>\n",
       "      <td>8</td>\n",
       "      <td>Knocking On Forbidden Doors</td>\n",
       "      <td>200</td>\n",
       "      <td>1538352416000</td>\n",
       "      <td>\"Mozilla/5.0 (Windows NT 6.1; WOW64) AppleWebK...</td>\n",
       "      <td>9</td>\n",
       "    </tr>\n",
       "    <tr>\n",
       "      <th>4</th>\n",
       "      <td>Daft Punk</td>\n",
       "      <td>Logged In</td>\n",
       "      <td>Colin</td>\n",
       "      <td>M</td>\n",
       "      <td>52</td>\n",
       "      <td>Freeman</td>\n",
       "      <td>223.60771</td>\n",
       "      <td>paid</td>\n",
       "      <td>Bakersfield, CA</td>\n",
       "      <td>PUT</td>\n",
       "      <td>NextSong</td>\n",
       "      <td>1538173362000</td>\n",
       "      <td>29</td>\n",
       "      <td>Harder Better Faster Stronger</td>\n",
       "      <td>200</td>\n",
       "      <td>1538352676000</td>\n",
       "      <td>Mozilla/5.0 (Windows NT 6.1; WOW64; rv:31.0) G...</td>\n",
       "      <td>30</td>\n",
       "    </tr>\n",
       "  </tbody>\n",
       "</table>\n",
       "</div>"
      ],
      "text/plain": [
       "             artist       auth firstName gender  itemInSession lastName  \\\n",
       "0    Martha Tilston  Logged In     Colin      M             50  Freeman   \n",
       "1  Five Iron Frenzy  Logged In     Micah      M             79     Long   \n",
       "2      Adam Lambert  Logged In     Colin      M             51  Freeman   \n",
       "3            Enigma  Logged In     Micah      M             80     Long   \n",
       "4         Daft Punk  Logged In     Colin      M             52  Freeman   \n",
       "\n",
       "      length level                        location method      page  \\\n",
       "0  277.89016  paid                 Bakersfield, CA    PUT  NextSong   \n",
       "1  236.09424  free  Boston-Cambridge-Newton, MA-NH    PUT  NextSong   \n",
       "2  282.82730  paid                 Bakersfield, CA    PUT  NextSong   \n",
       "3  262.71302  free  Boston-Cambridge-Newton, MA-NH    PUT  NextSong   \n",
       "4  223.60771  paid                 Bakersfield, CA    PUT  NextSong   \n",
       "\n",
       "    registration  sessionId                           song  status  \\\n",
       "0  1538173362000         29                      Rockpools     200   \n",
       "1  1538331630000          8                         Canada     200   \n",
       "2  1538173362000         29              Time For Miracles     200   \n",
       "3  1538331630000          8    Knocking On Forbidden Doors     200   \n",
       "4  1538173362000         29  Harder Better Faster Stronger     200   \n",
       "\n",
       "              ts                                          userAgent userId  \n",
       "0  1538352117000  Mozilla/5.0 (Windows NT 6.1; WOW64; rv:31.0) G...     30  \n",
       "1  1538352180000  \"Mozilla/5.0 (Windows NT 6.1; WOW64) AppleWebK...      9  \n",
       "2  1538352394000  Mozilla/5.0 (Windows NT 6.1; WOW64; rv:31.0) G...     30  \n",
       "3  1538352416000  \"Mozilla/5.0 (Windows NT 6.1; WOW64) AppleWebK...      9  \n",
       "4  1538352676000  Mozilla/5.0 (Windows NT 6.1; WOW64; rv:31.0) G...     30  "
      ]
     },
     "execution_count": 5,
     "metadata": {},
     "output_type": "execute_result"
    }
   ],
   "source": [
    "# display the Spark dataframe\n",
    "df.limit(5).toPandas()"
   ]
  },
  {
   "cell_type": "markdown",
   "metadata": {},
   "source": [
    "* Note that converting a Spark dataframe to a Pandas one here is for display purpose only. This is not recommended when one has to deal with fairly large dataframes (If this is the case, use the following configuration will help: spark.conf.set(\"spark.sql.execution.arrow.pyspark.enabled\", \"true\") ), as Pandas needs to load all the data into memory. See https://stackoverflow.com/questions/39067505/pyspark-display-a-spark-data-frame-in-a-table-format."
   ]
  },
  {
   "cell_type": "markdown",
   "metadata": {},
   "source": [
    "#### Check values for categorical variables of interest"
   ]
  },
  {
   "cell_type": "code",
   "execution_count": 6,
   "metadata": {},
   "outputs": [
    {
     "data": {
      "text/plain": [
       "[Row(auth='Logged Out'),\n",
       " Row(auth='Cancelled'),\n",
       " Row(auth='Guest'),\n",
       " Row(auth='Logged In')]"
      ]
     },
     "execution_count": 6,
     "metadata": {},
     "output_type": "execute_result"
    }
   ],
   "source": [
    "df.select('auth').distinct().collect()"
   ]
  },
  {
   "cell_type": "code",
   "execution_count": 7,
   "metadata": {},
   "outputs": [
    {
     "data": {
      "text/plain": [
       "[Row(gender='F'), Row(gender=None), Row(gender='M')]"
      ]
     },
     "execution_count": 7,
     "metadata": {},
     "output_type": "execute_result"
    }
   ],
   "source": [
    "df.select('gender').distinct().collect()"
   ]
  },
  {
   "cell_type": "code",
   "execution_count": 8,
   "metadata": {},
   "outputs": [
    {
     "data": {
      "text/plain": [
       "[Row(level='free'), Row(level='paid')]"
      ]
     },
     "execution_count": 8,
     "metadata": {},
     "output_type": "execute_result"
    }
   ],
   "source": [
    "df.select('level').distinct().collect()"
   ]
  },
  {
   "cell_type": "code",
   "execution_count": 9,
   "metadata": {},
   "outputs": [
    {
     "data": {
      "text/plain": [
       "[Row(method='PUT'), Row(method='GET')]"
      ]
     },
     "execution_count": 9,
     "metadata": {},
     "output_type": "execute_result"
    }
   ],
   "source": [
    "df.select('method').distinct().collect()"
   ]
  },
  {
   "cell_type": "code",
   "execution_count": 10,
   "metadata": {},
   "outputs": [
    {
     "data": {
      "text/plain": [
       "[Row(page='Cancel'),\n",
       " Row(page='Submit Downgrade'),\n",
       " Row(page='Thumbs Down'),\n",
       " Row(page='Home'),\n",
       " Row(page='Downgrade'),\n",
       " Row(page='Roll Advert'),\n",
       " Row(page='Logout'),\n",
       " Row(page='Save Settings'),\n",
       " Row(page='Cancellation Confirmation'),\n",
       " Row(page='About'),\n",
       " Row(page='Submit Registration'),\n",
       " Row(page='Settings'),\n",
       " Row(page='Login'),\n",
       " Row(page='Register'),\n",
       " Row(page='Add to Playlist'),\n",
       " Row(page='Add Friend'),\n",
       " Row(page='NextSong'),\n",
       " Row(page='Thumbs Up'),\n",
       " Row(page='Help'),\n",
       " Row(page='Upgrade'),\n",
       " Row(page='Error'),\n",
       " Row(page='Submit Upgrade')]"
      ]
     },
     "execution_count": 10,
     "metadata": {},
     "output_type": "execute_result"
    }
   ],
   "source": [
    "df.select('page').distinct().collect()"
   ]
  },
  {
   "cell_type": "markdown",
   "metadata": {},
   "source": [
    "#### Check duration of records"
   ]
  },
  {
   "cell_type": "code",
   "execution_count": 11,
   "metadata": {},
   "outputs": [
    {
     "name": "stdout",
     "output_type": "stream",
     "text": [
      "+-------------------+\n",
      "|         Start time|\n",
      "+-------------------+\n",
      "|2018-09-30 17:01:57|\n",
      "+-------------------+\n",
      "\n"
     ]
    }
   ],
   "source": [
    "df.select(min(to_timestamp(col('ts')/1000)).alias('Start time')).show()"
   ]
  },
  {
   "cell_type": "code",
   "execution_count": 12,
   "metadata": {},
   "outputs": [
    {
     "name": "stdout",
     "output_type": "stream",
     "text": [
      "+-------------------+\n",
      "|           End time|\n",
      "+-------------------+\n",
      "|2018-12-02 17:11:16|\n",
      "+-------------------+\n",
      "\n"
     ]
    }
   ],
   "source": [
    "df.select(max(to_timestamp(col('ts')/1000)).alias('End time')).show()"
   ]
  },
  {
   "cell_type": "markdown",
   "metadata": {},
   "source": [
    "The duration of records is about 2 months."
   ]
  },
  {
   "cell_type": "markdown",
   "metadata": {},
   "source": [
    "#### Check null values"
   ]
  },
  {
   "cell_type": "code",
   "execution_count": 13,
   "metadata": {},
   "outputs": [
    {
     "data": {
      "text/html": [
       "<div>\n",
       "<style scoped>\n",
       "    .dataframe tbody tr th:only-of-type {\n",
       "        vertical-align: middle;\n",
       "    }\n",
       "\n",
       "    .dataframe tbody tr th {\n",
       "        vertical-align: top;\n",
       "    }\n",
       "\n",
       "    .dataframe thead th {\n",
       "        text-align: right;\n",
       "    }\n",
       "</style>\n",
       "<table border=\"1\" class=\"dataframe\">\n",
       "  <thead>\n",
       "    <tr style=\"text-align: right;\">\n",
       "      <th></th>\n",
       "      <th>artist</th>\n",
       "      <th>auth</th>\n",
       "      <th>firstName</th>\n",
       "      <th>gender</th>\n",
       "      <th>itemInSession</th>\n",
       "      <th>lastName</th>\n",
       "      <th>length</th>\n",
       "      <th>level</th>\n",
       "      <th>location</th>\n",
       "      <th>method</th>\n",
       "      <th>page</th>\n",
       "      <th>registration</th>\n",
       "      <th>sessionId</th>\n",
       "      <th>song</th>\n",
       "      <th>status</th>\n",
       "      <th>ts</th>\n",
       "      <th>userAgent</th>\n",
       "      <th>userId</th>\n",
       "    </tr>\n",
       "  </thead>\n",
       "  <tbody>\n",
       "    <tr>\n",
       "      <th>0</th>\n",
       "      <td>58392</td>\n",
       "      <td>0</td>\n",
       "      <td>8346</td>\n",
       "      <td>8346</td>\n",
       "      <td>0</td>\n",
       "      <td>8346</td>\n",
       "      <td>58392</td>\n",
       "      <td>0</td>\n",
       "      <td>8346</td>\n",
       "      <td>0</td>\n",
       "      <td>0</td>\n",
       "      <td>8346</td>\n",
       "      <td>0</td>\n",
       "      <td>58392</td>\n",
       "      <td>0</td>\n",
       "      <td>0</td>\n",
       "      <td>8346</td>\n",
       "      <td>0</td>\n",
       "    </tr>\n",
       "  </tbody>\n",
       "</table>\n",
       "</div>"
      ],
      "text/plain": [
       "   artist  auth  firstName  gender  itemInSession  lastName  length  level  \\\n",
       "0   58392     0       8346    8346              0      8346   58392      0   \n",
       "\n",
       "   location  method  page  registration  sessionId   song  status  ts  \\\n",
       "0      8346       0     0          8346          0  58392       0   0   \n",
       "\n",
       "   userAgent  userId  \n",
       "0       8346       0  "
      ]
     },
     "execution_count": 13,
     "metadata": {},
     "output_type": "execute_result"
    }
   ],
   "source": [
    "# check the count of null values for each column\n",
    "df.select([count(when(isnull(c), c)).alias(c) for c in df.columns]).toPandas()"
   ]
  },
  {
   "cell_type": "markdown",
   "metadata": {},
   "source": [
    "We can see that variables with null values can be divided into two groups, i.e.:\n",
    "\n",
    "* Group 1 (user-related): firstName, gender, lastName, location, registration and userAgent\n",
    "* Group 2 (song-related): artist, length and song\n",
    "\n",
    "Variables in each group seem to be tied in a certain way with nulls."
   ]
  },
  {
   "cell_type": "code",
   "execution_count": 14,
   "metadata": {},
   "outputs": [
    {
     "data": {
      "text/html": [
       "<div>\n",
       "<style scoped>\n",
       "    .dataframe tbody tr th:only-of-type {\n",
       "        vertical-align: middle;\n",
       "    }\n",
       "\n",
       "    .dataframe tbody tr th {\n",
       "        vertical-align: top;\n",
       "    }\n",
       "\n",
       "    .dataframe thead th {\n",
       "        text-align: right;\n",
       "    }\n",
       "</style>\n",
       "<table border=\"1\" class=\"dataframe\">\n",
       "  <thead>\n",
       "    <tr style=\"text-align: right;\">\n",
       "      <th></th>\n",
       "      <th>artist</th>\n",
       "      <th>auth</th>\n",
       "      <th>firstName</th>\n",
       "      <th>gender</th>\n",
       "      <th>itemInSession</th>\n",
       "      <th>lastName</th>\n",
       "      <th>length</th>\n",
       "      <th>level</th>\n",
       "      <th>location</th>\n",
       "      <th>method</th>\n",
       "      <th>page</th>\n",
       "      <th>registration</th>\n",
       "      <th>sessionId</th>\n",
       "      <th>song</th>\n",
       "      <th>status</th>\n",
       "      <th>ts</th>\n",
       "      <th>userAgent</th>\n",
       "      <th>userId</th>\n",
       "    </tr>\n",
       "  </thead>\n",
       "  <tbody>\n",
       "    <tr>\n",
       "      <th>0</th>\n",
       "      <td>None</td>\n",
       "      <td>Logged Out</td>\n",
       "      <td>None</td>\n",
       "      <td>None</td>\n",
       "      <td>100</td>\n",
       "      <td>None</td>\n",
       "      <td>None</td>\n",
       "      <td>free</td>\n",
       "      <td>None</td>\n",
       "      <td>GET</td>\n",
       "      <td>Home</td>\n",
       "      <td>None</td>\n",
       "      <td>8</td>\n",
       "      <td>None</td>\n",
       "      <td>200</td>\n",
       "      <td>1538355745000</td>\n",
       "      <td>None</td>\n",
       "      <td></td>\n",
       "    </tr>\n",
       "    <tr>\n",
       "      <th>1</th>\n",
       "      <td>None</td>\n",
       "      <td>Logged Out</td>\n",
       "      <td>None</td>\n",
       "      <td>None</td>\n",
       "      <td>101</td>\n",
       "      <td>None</td>\n",
       "      <td>None</td>\n",
       "      <td>free</td>\n",
       "      <td>None</td>\n",
       "      <td>GET</td>\n",
       "      <td>Help</td>\n",
       "      <td>None</td>\n",
       "      <td>8</td>\n",
       "      <td>None</td>\n",
       "      <td>200</td>\n",
       "      <td>1538355807000</td>\n",
       "      <td>None</td>\n",
       "      <td></td>\n",
       "    </tr>\n",
       "    <tr>\n",
       "      <th>2</th>\n",
       "      <td>None</td>\n",
       "      <td>Logged Out</td>\n",
       "      <td>None</td>\n",
       "      <td>None</td>\n",
       "      <td>102</td>\n",
       "      <td>None</td>\n",
       "      <td>None</td>\n",
       "      <td>free</td>\n",
       "      <td>None</td>\n",
       "      <td>GET</td>\n",
       "      <td>Home</td>\n",
       "      <td>None</td>\n",
       "      <td>8</td>\n",
       "      <td>None</td>\n",
       "      <td>200</td>\n",
       "      <td>1538355841000</td>\n",
       "      <td>None</td>\n",
       "      <td></td>\n",
       "    </tr>\n",
       "    <tr>\n",
       "      <th>3</th>\n",
       "      <td>None</td>\n",
       "      <td>Logged Out</td>\n",
       "      <td>None</td>\n",
       "      <td>None</td>\n",
       "      <td>103</td>\n",
       "      <td>None</td>\n",
       "      <td>None</td>\n",
       "      <td>free</td>\n",
       "      <td>None</td>\n",
       "      <td>PUT</td>\n",
       "      <td>Login</td>\n",
       "      <td>None</td>\n",
       "      <td>8</td>\n",
       "      <td>None</td>\n",
       "      <td>307</td>\n",
       "      <td>1538355842000</td>\n",
       "      <td>None</td>\n",
       "      <td></td>\n",
       "    </tr>\n",
       "    <tr>\n",
       "      <th>4</th>\n",
       "      <td>None</td>\n",
       "      <td>Logged Out</td>\n",
       "      <td>None</td>\n",
       "      <td>None</td>\n",
       "      <td>2</td>\n",
       "      <td>None</td>\n",
       "      <td>None</td>\n",
       "      <td>free</td>\n",
       "      <td>None</td>\n",
       "      <td>GET</td>\n",
       "      <td>Home</td>\n",
       "      <td>None</td>\n",
       "      <td>240</td>\n",
       "      <td>None</td>\n",
       "      <td>200</td>\n",
       "      <td>1538356678000</td>\n",
       "      <td>None</td>\n",
       "      <td></td>\n",
       "    </tr>\n",
       "    <tr>\n",
       "      <th>5</th>\n",
       "      <td>None</td>\n",
       "      <td>Logged Out</td>\n",
       "      <td>None</td>\n",
       "      <td>None</td>\n",
       "      <td>3</td>\n",
       "      <td>None</td>\n",
       "      <td>None</td>\n",
       "      <td>free</td>\n",
       "      <td>None</td>\n",
       "      <td>PUT</td>\n",
       "      <td>Login</td>\n",
       "      <td>None</td>\n",
       "      <td>240</td>\n",
       "      <td>None</td>\n",
       "      <td>307</td>\n",
       "      <td>1538356679000</td>\n",
       "      <td>None</td>\n",
       "      <td></td>\n",
       "    </tr>\n",
       "    <tr>\n",
       "      <th>6</th>\n",
       "      <td>None</td>\n",
       "      <td>Logged Out</td>\n",
       "      <td>None</td>\n",
       "      <td>None</td>\n",
       "      <td>0</td>\n",
       "      <td>None</td>\n",
       "      <td>None</td>\n",
       "      <td>free</td>\n",
       "      <td>None</td>\n",
       "      <td>PUT</td>\n",
       "      <td>Login</td>\n",
       "      <td>None</td>\n",
       "      <td>100</td>\n",
       "      <td>None</td>\n",
       "      <td>307</td>\n",
       "      <td>1538358102000</td>\n",
       "      <td>None</td>\n",
       "      <td></td>\n",
       "    </tr>\n",
       "    <tr>\n",
       "      <th>7</th>\n",
       "      <td>None</td>\n",
       "      <td>Logged Out</td>\n",
       "      <td>None</td>\n",
       "      <td>None</td>\n",
       "      <td>0</td>\n",
       "      <td>None</td>\n",
       "      <td>None</td>\n",
       "      <td>free</td>\n",
       "      <td>None</td>\n",
       "      <td>PUT</td>\n",
       "      <td>Login</td>\n",
       "      <td>None</td>\n",
       "      <td>241</td>\n",
       "      <td>None</td>\n",
       "      <td>307</td>\n",
       "      <td>1538360117000</td>\n",
       "      <td>None</td>\n",
       "      <td></td>\n",
       "    </tr>\n",
       "    <tr>\n",
       "      <th>8</th>\n",
       "      <td>None</td>\n",
       "      <td>Logged Out</td>\n",
       "      <td>None</td>\n",
       "      <td>None</td>\n",
       "      <td>14</td>\n",
       "      <td>None</td>\n",
       "      <td>None</td>\n",
       "      <td>free</td>\n",
       "      <td>None</td>\n",
       "      <td>GET</td>\n",
       "      <td>Home</td>\n",
       "      <td>None</td>\n",
       "      <td>187</td>\n",
       "      <td>None</td>\n",
       "      <td>200</td>\n",
       "      <td>1538361527000</td>\n",
       "      <td>None</td>\n",
       "      <td></td>\n",
       "    </tr>\n",
       "    <tr>\n",
       "      <th>9</th>\n",
       "      <td>None</td>\n",
       "      <td>Logged Out</td>\n",
       "      <td>None</td>\n",
       "      <td>None</td>\n",
       "      <td>15</td>\n",
       "      <td>None</td>\n",
       "      <td>None</td>\n",
       "      <td>free</td>\n",
       "      <td>None</td>\n",
       "      <td>PUT</td>\n",
       "      <td>Login</td>\n",
       "      <td>None</td>\n",
       "      <td>187</td>\n",
       "      <td>None</td>\n",
       "      <td>307</td>\n",
       "      <td>1538361528000</td>\n",
       "      <td>None</td>\n",
       "      <td></td>\n",
       "    </tr>\n",
       "  </tbody>\n",
       "</table>\n",
       "</div>"
      ],
      "text/plain": [
       "  artist        auth firstName gender  itemInSession lastName length level  \\\n",
       "0   None  Logged Out      None   None            100     None   None  free   \n",
       "1   None  Logged Out      None   None            101     None   None  free   \n",
       "2   None  Logged Out      None   None            102     None   None  free   \n",
       "3   None  Logged Out      None   None            103     None   None  free   \n",
       "4   None  Logged Out      None   None              2     None   None  free   \n",
       "5   None  Logged Out      None   None              3     None   None  free   \n",
       "6   None  Logged Out      None   None              0     None   None  free   \n",
       "7   None  Logged Out      None   None              0     None   None  free   \n",
       "8   None  Logged Out      None   None             14     None   None  free   \n",
       "9   None  Logged Out      None   None             15     None   None  free   \n",
       "\n",
       "  location method   page registration  sessionId  song  status             ts  \\\n",
       "0     None    GET   Home         None          8  None     200  1538355745000   \n",
       "1     None    GET   Help         None          8  None     200  1538355807000   \n",
       "2     None    GET   Home         None          8  None     200  1538355841000   \n",
       "3     None    PUT  Login         None          8  None     307  1538355842000   \n",
       "4     None    GET   Home         None        240  None     200  1538356678000   \n",
       "5     None    PUT  Login         None        240  None     307  1538356679000   \n",
       "6     None    PUT  Login         None        100  None     307  1538358102000   \n",
       "7     None    PUT  Login         None        241  None     307  1538360117000   \n",
       "8     None    GET   Home         None        187  None     200  1538361527000   \n",
       "9     None    PUT  Login         None        187  None     307  1538361528000   \n",
       "\n",
       "  userAgent userId  \n",
       "0      None         \n",
       "1      None         \n",
       "2      None         \n",
       "3      None         \n",
       "4      None         \n",
       "5      None         \n",
       "6      None         \n",
       "7      None         \n",
       "8      None         \n",
       "9      None         "
      ]
     },
     "execution_count": 14,
     "metadata": {},
     "output_type": "execute_result"
    }
   ],
   "source": [
    "df.where('firstName is null').limit(10).toPandas()"
   ]
  },
  {
   "cell_type": "markdown",
   "metadata": {},
   "source": [
    "It can be seen that when **auth** is *LoggedOut*, variables in both groups are null and **userId** is an empty string. "
   ]
  },
  {
   "cell_type": "code",
   "execution_count": 15,
   "metadata": {},
   "outputs": [
    {
     "name": "stdout",
     "output_type": "stream",
     "text": [
      "+----------+-----+\n",
      "|      auth|count|\n",
      "+----------+-----+\n",
      "|Logged Out| 8249|\n",
      "|     Guest|   97|\n",
      "+----------+-----+\n",
      "\n"
     ]
    }
   ],
   "source": [
    "df.where(df['userId'] == '').groupBy('auth').count().show()"
   ]
  },
  {
   "cell_type": "markdown",
   "metadata": {},
   "source": [
    "The result above shows all the rows with missing values in the **userId** column and all other user-related columns correspond to *Logged Out* or *Guest* authentication levels."
   ]
  },
  {
   "cell_type": "code",
   "execution_count": 16,
   "metadata": {},
   "outputs": [
    {
     "data": {
      "text/html": [
       "<div>\n",
       "<style scoped>\n",
       "    .dataframe tbody tr th:only-of-type {\n",
       "        vertical-align: middle;\n",
       "    }\n",
       "\n",
       "    .dataframe tbody tr th {\n",
       "        vertical-align: top;\n",
       "    }\n",
       "\n",
       "    .dataframe thead th {\n",
       "        text-align: right;\n",
       "    }\n",
       "</style>\n",
       "<table border=\"1\" class=\"dataframe\">\n",
       "  <thead>\n",
       "    <tr style=\"text-align: right;\">\n",
       "      <th></th>\n",
       "      <th>artist</th>\n",
       "      <th>auth</th>\n",
       "      <th>firstName</th>\n",
       "      <th>gender</th>\n",
       "      <th>itemInSession</th>\n",
       "      <th>lastName</th>\n",
       "      <th>length</th>\n",
       "      <th>level</th>\n",
       "      <th>location</th>\n",
       "      <th>method</th>\n",
       "      <th>page</th>\n",
       "      <th>registration</th>\n",
       "      <th>sessionId</th>\n",
       "      <th>song</th>\n",
       "      <th>status</th>\n",
       "      <th>ts</th>\n",
       "      <th>userAgent</th>\n",
       "      <th>userId</th>\n",
       "    </tr>\n",
       "  </thead>\n",
       "  <tbody>\n",
       "    <tr>\n",
       "      <th>0</th>\n",
       "      <td>None</td>\n",
       "      <td>Logged In</td>\n",
       "      <td>Colin</td>\n",
       "      <td>M</td>\n",
       "      <td>54</td>\n",
       "      <td>Freeman</td>\n",
       "      <td>None</td>\n",
       "      <td>paid</td>\n",
       "      <td>Bakersfield, CA</td>\n",
       "      <td>PUT</td>\n",
       "      <td>Add to Playlist</td>\n",
       "      <td>1.538173e+12</td>\n",
       "      <td>29</td>\n",
       "      <td>None</td>\n",
       "      <td>200</td>\n",
       "      <td>1538352905000</td>\n",
       "      <td>Mozilla/5.0 (Windows NT 6.1; WOW64; rv:31.0) G...</td>\n",
       "      <td>30</td>\n",
       "    </tr>\n",
       "    <tr>\n",
       "      <th>1</th>\n",
       "      <td>None</td>\n",
       "      <td>Logged In</td>\n",
       "      <td>Micah</td>\n",
       "      <td>M</td>\n",
       "      <td>84</td>\n",
       "      <td>Long</td>\n",
       "      <td>None</td>\n",
       "      <td>free</td>\n",
       "      <td>Boston-Cambridge-Newton, MA-NH</td>\n",
       "      <td>GET</td>\n",
       "      <td>Roll Advert</td>\n",
       "      <td>1.538332e+12</td>\n",
       "      <td>8</td>\n",
       "      <td>None</td>\n",
       "      <td>200</td>\n",
       "      <td>1538353150000</td>\n",
       "      <td>\"Mozilla/5.0 (Windows NT 6.1; WOW64) AppleWebK...</td>\n",
       "      <td>9</td>\n",
       "    </tr>\n",
       "    <tr>\n",
       "      <th>2</th>\n",
       "      <td>None</td>\n",
       "      <td>Logged In</td>\n",
       "      <td>Micah</td>\n",
       "      <td>M</td>\n",
       "      <td>86</td>\n",
       "      <td>Long</td>\n",
       "      <td>None</td>\n",
       "      <td>free</td>\n",
       "      <td>Boston-Cambridge-Newton, MA-NH</td>\n",
       "      <td>PUT</td>\n",
       "      <td>Thumbs Up</td>\n",
       "      <td>1.538332e+12</td>\n",
       "      <td>8</td>\n",
       "      <td>None</td>\n",
       "      <td>307</td>\n",
       "      <td>1538353376000</td>\n",
       "      <td>\"Mozilla/5.0 (Windows NT 6.1; WOW64) AppleWebK...</td>\n",
       "      <td>9</td>\n",
       "    </tr>\n",
       "    <tr>\n",
       "      <th>3</th>\n",
       "      <td>None</td>\n",
       "      <td>Logged In</td>\n",
       "      <td>Alexi</td>\n",
       "      <td>F</td>\n",
       "      <td>4</td>\n",
       "      <td>Warren</td>\n",
       "      <td>None</td>\n",
       "      <td>paid</td>\n",
       "      <td>Spokane-Spokane Valley, WA</td>\n",
       "      <td>GET</td>\n",
       "      <td>Downgrade</td>\n",
       "      <td>1.532483e+12</td>\n",
       "      <td>53</td>\n",
       "      <td>None</td>\n",
       "      <td>200</td>\n",
       "      <td>1538354749000</td>\n",
       "      <td>Mozilla/5.0 (Windows NT 6.1; WOW64; rv:32.0) G...</td>\n",
       "      <td>54</td>\n",
       "    </tr>\n",
       "    <tr>\n",
       "      <th>4</th>\n",
       "      <td>None</td>\n",
       "      <td>Logged In</td>\n",
       "      <td>Alexi</td>\n",
       "      <td>F</td>\n",
       "      <td>7</td>\n",
       "      <td>Warren</td>\n",
       "      <td>None</td>\n",
       "      <td>paid</td>\n",
       "      <td>Spokane-Spokane Valley, WA</td>\n",
       "      <td>PUT</td>\n",
       "      <td>Thumbs Up</td>\n",
       "      <td>1.532483e+12</td>\n",
       "      <td>53</td>\n",
       "      <td>None</td>\n",
       "      <td>307</td>\n",
       "      <td>1538355255000</td>\n",
       "      <td>Mozilla/5.0 (Windows NT 6.1; WOW64; rv:32.0) G...</td>\n",
       "      <td>54</td>\n",
       "    </tr>\n",
       "    <tr>\n",
       "      <th>5</th>\n",
       "      <td>None</td>\n",
       "      <td>Logged In</td>\n",
       "      <td>Micah</td>\n",
       "      <td>M</td>\n",
       "      <td>95</td>\n",
       "      <td>Long</td>\n",
       "      <td>None</td>\n",
       "      <td>free</td>\n",
       "      <td>Boston-Cambridge-Newton, MA-NH</td>\n",
       "      <td>PUT</td>\n",
       "      <td>Thumbs Down</td>\n",
       "      <td>1.538332e+12</td>\n",
       "      <td>8</td>\n",
       "      <td>None</td>\n",
       "      <td>307</td>\n",
       "      <td>1538355306000</td>\n",
       "      <td>\"Mozilla/5.0 (Windows NT 6.1; WOW64) AppleWebK...</td>\n",
       "      <td>9</td>\n",
       "    </tr>\n",
       "    <tr>\n",
       "      <th>6</th>\n",
       "      <td>None</td>\n",
       "      <td>Logged In</td>\n",
       "      <td>Micah</td>\n",
       "      <td>M</td>\n",
       "      <td>97</td>\n",
       "      <td>Long</td>\n",
       "      <td>None</td>\n",
       "      <td>free</td>\n",
       "      <td>Boston-Cambridge-Newton, MA-NH</td>\n",
       "      <td>GET</td>\n",
       "      <td>Home</td>\n",
       "      <td>1.538332e+12</td>\n",
       "      <td>8</td>\n",
       "      <td>None</td>\n",
       "      <td>200</td>\n",
       "      <td>1538355504000</td>\n",
       "      <td>\"Mozilla/5.0 (Windows NT 6.1; WOW64) AppleWebK...</td>\n",
       "      <td>9</td>\n",
       "    </tr>\n",
       "    <tr>\n",
       "      <th>7</th>\n",
       "      <td>None</td>\n",
       "      <td>Logged In</td>\n",
       "      <td>Micah</td>\n",
       "      <td>M</td>\n",
       "      <td>99</td>\n",
       "      <td>Long</td>\n",
       "      <td>None</td>\n",
       "      <td>free</td>\n",
       "      <td>Boston-Cambridge-Newton, MA-NH</td>\n",
       "      <td>PUT</td>\n",
       "      <td>Logout</td>\n",
       "      <td>1.538332e+12</td>\n",
       "      <td>8</td>\n",
       "      <td>None</td>\n",
       "      <td>307</td>\n",
       "      <td>1538355687000</td>\n",
       "      <td>\"Mozilla/5.0 (Windows NT 6.1; WOW64) AppleWebK...</td>\n",
       "      <td>9</td>\n",
       "    </tr>\n",
       "    <tr>\n",
       "      <th>8</th>\n",
       "      <td>None</td>\n",
       "      <td>Logged In</td>\n",
       "      <td>Ashlynn</td>\n",
       "      <td>F</td>\n",
       "      <td>9</td>\n",
       "      <td>Williams</td>\n",
       "      <td>None</td>\n",
       "      <td>free</td>\n",
       "      <td>Tallahassee, FL</td>\n",
       "      <td>PUT</td>\n",
       "      <td>Thumbs Up</td>\n",
       "      <td>1.537365e+12</td>\n",
       "      <td>217</td>\n",
       "      <td>None</td>\n",
       "      <td>307</td>\n",
       "      <td>1538355711000</td>\n",
       "      <td>\"Mozilla/5.0 (Macintosh; Intel Mac OS X 10_9_4...</td>\n",
       "      <td>74</td>\n",
       "    </tr>\n",
       "    <tr>\n",
       "      <th>9</th>\n",
       "      <td>None</td>\n",
       "      <td>Logged Out</td>\n",
       "      <td>None</td>\n",
       "      <td>None</td>\n",
       "      <td>100</td>\n",
       "      <td>None</td>\n",
       "      <td>None</td>\n",
       "      <td>free</td>\n",
       "      <td>None</td>\n",
       "      <td>GET</td>\n",
       "      <td>Home</td>\n",
       "      <td>NaN</td>\n",
       "      <td>8</td>\n",
       "      <td>None</td>\n",
       "      <td>200</td>\n",
       "      <td>1538355745000</td>\n",
       "      <td>None</td>\n",
       "      <td></td>\n",
       "    </tr>\n",
       "  </tbody>\n",
       "</table>\n",
       "</div>"
      ],
      "text/plain": [
       "  artist        auth firstName gender  itemInSession  lastName length level  \\\n",
       "0   None   Logged In     Colin      M             54   Freeman   None  paid   \n",
       "1   None   Logged In     Micah      M             84      Long   None  free   \n",
       "2   None   Logged In     Micah      M             86      Long   None  free   \n",
       "3   None   Logged In     Alexi      F              4    Warren   None  paid   \n",
       "4   None   Logged In     Alexi      F              7    Warren   None  paid   \n",
       "5   None   Logged In     Micah      M             95      Long   None  free   \n",
       "6   None   Logged In     Micah      M             97      Long   None  free   \n",
       "7   None   Logged In     Micah      M             99      Long   None  free   \n",
       "8   None   Logged In   Ashlynn      F              9  Williams   None  free   \n",
       "9   None  Logged Out      None   None            100      None   None  free   \n",
       "\n",
       "                         location method             page  registration  \\\n",
       "0                 Bakersfield, CA    PUT  Add to Playlist  1.538173e+12   \n",
       "1  Boston-Cambridge-Newton, MA-NH    GET      Roll Advert  1.538332e+12   \n",
       "2  Boston-Cambridge-Newton, MA-NH    PUT        Thumbs Up  1.538332e+12   \n",
       "3      Spokane-Spokane Valley, WA    GET        Downgrade  1.532483e+12   \n",
       "4      Spokane-Spokane Valley, WA    PUT        Thumbs Up  1.532483e+12   \n",
       "5  Boston-Cambridge-Newton, MA-NH    PUT      Thumbs Down  1.538332e+12   \n",
       "6  Boston-Cambridge-Newton, MA-NH    GET             Home  1.538332e+12   \n",
       "7  Boston-Cambridge-Newton, MA-NH    PUT           Logout  1.538332e+12   \n",
       "8                 Tallahassee, FL    PUT        Thumbs Up  1.537365e+12   \n",
       "9                            None    GET             Home           NaN   \n",
       "\n",
       "   sessionId  song  status             ts  \\\n",
       "0         29  None     200  1538352905000   \n",
       "1          8  None     200  1538353150000   \n",
       "2          8  None     307  1538353376000   \n",
       "3         53  None     200  1538354749000   \n",
       "4         53  None     307  1538355255000   \n",
       "5          8  None     307  1538355306000   \n",
       "6          8  None     200  1538355504000   \n",
       "7          8  None     307  1538355687000   \n",
       "8        217  None     307  1538355711000   \n",
       "9          8  None     200  1538355745000   \n",
       "\n",
       "                                           userAgent userId  \n",
       "0  Mozilla/5.0 (Windows NT 6.1; WOW64; rv:31.0) G...     30  \n",
       "1  \"Mozilla/5.0 (Windows NT 6.1; WOW64) AppleWebK...      9  \n",
       "2  \"Mozilla/5.0 (Windows NT 6.1; WOW64) AppleWebK...      9  \n",
       "3  Mozilla/5.0 (Windows NT 6.1; WOW64; rv:32.0) G...     54  \n",
       "4  Mozilla/5.0 (Windows NT 6.1; WOW64; rv:32.0) G...     54  \n",
       "5  \"Mozilla/5.0 (Windows NT 6.1; WOW64) AppleWebK...      9  \n",
       "6  \"Mozilla/5.0 (Windows NT 6.1; WOW64) AppleWebK...      9  \n",
       "7  \"Mozilla/5.0 (Windows NT 6.1; WOW64) AppleWebK...      9  \n",
       "8  \"Mozilla/5.0 (Macintosh; Intel Mac OS X 10_9_4...     74  \n",
       "9                                               None         "
      ]
     },
     "execution_count": 16,
     "metadata": {},
     "output_type": "execute_result"
    }
   ],
   "source": [
    "df.where('artist is null').limit(10).toPandas()"
   ]
  },
  {
   "cell_type": "code",
   "execution_count": 17,
   "metadata": {},
   "outputs": [
    {
     "data": {
      "text/plain": [
       "{Row(page='NextSong')}"
      ]
     },
     "execution_count": 17,
     "metadata": {},
     "output_type": "execute_result"
    }
   ],
   "source": [
    "set(df.select('page').distinct().collect())-set(df.select('page').where('artist is null').distinct().collect())"
   ]
  },
  {
   "cell_type": "markdown",
   "metadata": {},
   "source": [
    "We find that the variables in Group 2 are null whenever **page** is not *NextSong*, which makes sense since these variables are song-related."
   ]
  },
  {
   "cell_type": "code",
   "execution_count": 18,
   "metadata": {},
   "outputs": [],
   "source": [
    "def clean_data(df):\n",
    "    \"\"\"Clean a Sparkify dataset \n",
    "    \n",
    "    Args:\n",
    "    df: (spark dataframe) a Sparkify dataset\n",
    "    \n",
    "    Returns:\n",
    "    df: (spark dataframe) a preprocessed Sparkify dataset\n",
    "    \"\"\"\n",
    "    # remove user id with empty strings\n",
    "    df = df.filter(df['userId'] != '')\n",
    "    \n",
    "    # convert 'registration' and 'ts' to date format\n",
    "    df = df \\\n",
    "        .withColumn('registrationTime', to_timestamp(col('registration')/1000)) \\\n",
    "        .withColumn('time', to_timestamp(col('ts')/1000)) \n",
    "    \n",
    "    # replace location with first listed state \n",
    "    state_udf = udf(lambda x: x.split(', ')[1].split('-')[0])\n",
    "    df = df.withColumn('location', state_udf('location'))\n",
    "        \n",
    "    return df\n",
    "\n",
    "df = clean_data(df)"
   ]
  },
  {
   "cell_type": "markdown",
   "metadata": {},
   "source": [
    "## Feature Engineering and Exploratory Data Analysis\n",
    "\n",
    "Once we've familiarized ourselves with the data, we build out the features we find promising and perform exploratory data analysis to observe the demographic and behavioral difference between those who stayed and those who churned. \n",
    "\n",
    "### Define Churn\n",
    "\n",
    "First, we use the *Cancellation Confirmation* events of the **page** column to define the customer churn. "
   ]
  },
  {
   "cell_type": "code",
   "execution_count": 19,
   "metadata": {},
   "outputs": [],
   "source": [
    "userWindow = Window.partitionBy('userId').orderBy('ts').rangeBetween(Window.unboundedPreceding,Window.unboundedFollowing)"
   ]
  },
  {
   "cell_type": "code",
   "execution_count": 20,
   "metadata": {},
   "outputs": [],
   "source": [
    "# label churned users to be 1 and unchurned users to be 0 \n",
    "df = df \\\n",
    "    .withColumn('Churn', when(col('page')=='Cancellation Confirmation', 1).otherwise(0)) \\\n",
    "    .withColumn('Churn', max('Churn').over(userWindow))"
   ]
  },
  {
   "cell_type": "code",
   "execution_count": 21,
   "metadata": {},
   "outputs": [
    {
     "name": "stdout",
     "output_type": "stream",
     "text": [
      "+-----+-----+\n",
      "|Churn|count|\n",
      "+-----+-----+\n",
      "|    1|   52|\n",
      "|    0|  173|\n",
      "+-----+-----+\n",
      "\n"
     ]
    }
   ],
   "source": [
    "df.dropDuplicates(['userId']).groupby('Churn').count().show()"
   ]
  },
  {
   "cell_type": "markdown",
   "metadata": {},
   "source": [
    "There are 52 churned users in a total of 225 users in the dataset. That's about 23.1% churn rate."
   ]
  },
  {
   "cell_type": "markdown",
   "metadata": {},
   "source": [
    "### Build features\n",
    "\n",
    "Next, we investigate the following factors of interest for their impact on churn:\n",
    "\n",
    "* gender\n",
    "* location\n",
    "* latest level\n",
    "* registration duration\n",
    "* average session duration\n",
    "* aggregated activities / observation period\n",
    "\n",
    "In this list, gender and location represent a user's demographic information. We notice Spakify's users reside across 41 states. If we one hot encode the location feature, we will add 40 binary columns to a dataset with only 225 samples, which may potentially cause the curse of dimensionality. To address this issue, we replace each state by its corresponding geographical division (data source: https://www2.census.gov/geo/pdfs/maps-data/maps/reference/us_regdiv.pdf) so that 41 states are assigned to 9 divisions."
   ]
  },
  {
   "cell_type": "code",
   "execution_count": 22,
   "metadata": {},
   "outputs": [
    {
     "name": "stdout",
     "output_type": "stream",
     "text": [
      "The dataset includes 41 states.\n"
     ]
    }
   ],
   "source": [
    "print('The dataset includes {} states.'.format(df.dropDuplicates(['location']).count()))"
   ]
  },
  {
   "cell_type": "code",
   "execution_count": 23,
   "metadata": {},
   "outputs": [
    {
     "name": "stdout",
     "output_type": "stream",
     "text": [
      "+----------+----------+------+------------------+\n",
      "|     State|State Code|Region|          Division|\n",
      "+----------+----------+------+------------------+\n",
      "|    Alaska|        AK|  West|           Pacific|\n",
      "|   Alabama|        AL| South|East South Central|\n",
      "|  Arkansas|        AR| South|West South Central|\n",
      "|   Arizona|        AZ|  West|          Mountain|\n",
      "|California|        CA|  West|           Pacific|\n",
      "+----------+----------+------+------------------+\n",
      "only showing top 5 rows\n",
      "\n"
     ]
    }
   ],
   "source": [
    "region_df = spark.read.csv('us_regions.csv', header=True)\n",
    "region_df.show(5)"
   ]
  },
  {
   "cell_type": "code",
   "execution_count": 24,
   "metadata": {},
   "outputs": [
    {
     "data": {
      "text/html": [
       "<div>\n",
       "<style scoped>\n",
       "    .dataframe tbody tr th:only-of-type {\n",
       "        vertical-align: middle;\n",
       "    }\n",
       "\n",
       "    .dataframe tbody tr th {\n",
       "        vertical-align: top;\n",
       "    }\n",
       "\n",
       "    .dataframe thead th {\n",
       "        text-align: right;\n",
       "    }\n",
       "</style>\n",
       "<table border=\"1\" class=\"dataframe\">\n",
       "  <thead>\n",
       "    <tr style=\"text-align: right;\">\n",
       "      <th></th>\n",
       "      <th>userId</th>\n",
       "      <th>locationEastNorthCentral</th>\n",
       "      <th>locationEastSouthCentral</th>\n",
       "      <th>locationMiddleAtlantic</th>\n",
       "      <th>locationMountain</th>\n",
       "      <th>locationNewEngland</th>\n",
       "      <th>locationPacific</th>\n",
       "      <th>locationSouthAtlantic</th>\n",
       "      <th>locationWestNorthCentral</th>\n",
       "    </tr>\n",
       "  </thead>\n",
       "  <tbody>\n",
       "    <tr>\n",
       "      <th>0</th>\n",
       "      <td>200002</td>\n",
       "      <td>1</td>\n",
       "      <td>0</td>\n",
       "      <td>0</td>\n",
       "      <td>0</td>\n",
       "      <td>0</td>\n",
       "      <td>0</td>\n",
       "      <td>0</td>\n",
       "      <td>0</td>\n",
       "    </tr>\n",
       "    <tr>\n",
       "      <th>1</th>\n",
       "      <td>100010</td>\n",
       "      <td>0</td>\n",
       "      <td>0</td>\n",
       "      <td>0</td>\n",
       "      <td>0</td>\n",
       "      <td>1</td>\n",
       "      <td>0</td>\n",
       "      <td>0</td>\n",
       "      <td>0</td>\n",
       "    </tr>\n",
       "    <tr>\n",
       "      <th>2</th>\n",
       "      <td>125</td>\n",
       "      <td>0</td>\n",
       "      <td>0</td>\n",
       "      <td>0</td>\n",
       "      <td>0</td>\n",
       "      <td>0</td>\n",
       "      <td>0</td>\n",
       "      <td>0</td>\n",
       "      <td>0</td>\n",
       "    </tr>\n",
       "    <tr>\n",
       "      <th>3</th>\n",
       "      <td>124</td>\n",
       "      <td>0</td>\n",
       "      <td>0</td>\n",
       "      <td>1</td>\n",
       "      <td>0</td>\n",
       "      <td>0</td>\n",
       "      <td>0</td>\n",
       "      <td>0</td>\n",
       "      <td>0</td>\n",
       "    </tr>\n",
       "    <tr>\n",
       "      <th>4</th>\n",
       "      <td>7</td>\n",
       "      <td>0</td>\n",
       "      <td>0</td>\n",
       "      <td>0</td>\n",
       "      <td>0</td>\n",
       "      <td>0</td>\n",
       "      <td>1</td>\n",
       "      <td>0</td>\n",
       "      <td>0</td>\n",
       "    </tr>\n",
       "  </tbody>\n",
       "</table>\n",
       "</div>"
      ],
      "text/plain": [
       "   userId  locationEastNorthCentral  locationEastSouthCentral  \\\n",
       "0  200002                         1                         0   \n",
       "1  100010                         0                         0   \n",
       "2     125                         0                         0   \n",
       "3     124                         0                         0   \n",
       "4       7                         0                         0   \n",
       "\n",
       "   locationMiddleAtlantic  locationMountain  locationNewEngland  \\\n",
       "0                       0                 0                   0   \n",
       "1                       0                 0                   1   \n",
       "2                       0                 0                   0   \n",
       "3                       1                 0                   0   \n",
       "4                       0                 0                   0   \n",
       "\n",
       "   locationPacific  locationSouthAtlantic  locationWestNorthCentral  \n",
       "0                0                      0                         0  \n",
       "1                0                      0                         0  \n",
       "2                0                      0                         0  \n",
       "3                0                      0                         0  \n",
       "4                1                      0                         0  "
      ]
     },
     "execution_count": 24,
     "metadata": {},
     "output_type": "execute_result"
    }
   ],
   "source": [
    "# find the user's geographical division based on the location\n",
    "division_udf = udf(lambda x: 'location' + x.replace(' ', ''))\n",
    "\n",
    "location_df = df.select(['userId', 'location']).dropDuplicates(['userId'])\n",
    "location_df = location_df.join(region_df, location_df['location']==region_df[\"State Code\"], how='left') \\\n",
    "            .select(['userId', col(\"Division\").alias(\"location\")]) \\\n",
    "            .withColumn('location', division_udf('location'))\n",
    "\n",
    "# one hot encode the 'location' column by pivoting it \n",
    "location_df = location_df.groupBy('userId').pivot('location').agg(count('location').cast(IntegerType())).fillna(0)\n",
    "# remove the last column (or any one) to keep the binary columns independent\n",
    "location_df = location_df.drop(location_df.columns[-1]) \n",
    "\n",
    "location_df.limit(5).toPandas()"
   ]
  },
  {
   "cell_type": "markdown",
   "metadata": {},
   "source": [
    "Now we engineer the rest of the features, all of which are related to a user's behavior."
   ]
  },
  {
   "cell_type": "code",
   "execution_count": 25,
   "metadata": {},
   "outputs": [],
   "source": [
    "# find the latest level of each user\n",
    "df = df.withColumn('latestLevel', last(col('level')).over(userWindow))"
   ]
  },
  {
   "cell_type": "code",
   "execution_count": 26,
   "metadata": {},
   "outputs": [],
   "source": [
    "# calculate the duration between registration to last activity (in days)\n",
    "regist_duration_df = df.groupBy('userId') \\\n",
    "                    .agg(((last(col('ts'))-last(col('registration')))/1000/3600/24).alias('registDuration'))"
   ]
  },
  {
   "cell_type": "code",
   "execution_count": 27,
   "metadata": {},
   "outputs": [],
   "source": [
    "# compute average session duration (in hours)\n",
    "avg_session_duration_df = df \\\n",
    "    .groupBy(['userId', 'sessionId']).agg(min(col('ts')).alias('session_start'), max(col('ts')).alias('session_end'))\\\n",
    "    .groupBy('userId').agg(avg((col('session_end') - col('session_start'))/1000/3600).alias('avgSessionDuration'))"
   ]
  },
  {
   "cell_type": "code",
   "execution_count": 28,
   "metadata": {},
   "outputs": [],
   "source": [
    "# define the default start and end of the observation period\n",
    "obs_start_default = df.select(min(col('ts'))).collect()[0][0]\n",
    "obs_end_default = df.select(max(col('ts'))).collect()[0][0]"
   ]
  },
  {
   "cell_type": "code",
   "execution_count": 29,
   "metadata": {},
   "outputs": [
    {
     "name": "stdout",
     "output_type": "stream",
     "text": [
      "+------+-------------------+\n",
      "|userId|   registrationTime|\n",
      "+------+-------------------+\n",
      "|   156|2018-11-26 07:49:14|\n",
      "|   153|2018-11-02 22:42:17|\n",
      "|   154|2018-11-03 11:00:21|\n",
      "|   155|2018-11-04 14:27:50|\n",
      "|   152|2018-10-30 16:03:28|\n",
      "+------+-------------------+\n",
      "\n"
     ]
    }
   ],
   "source": [
    "# list users who registered after the start of the observation period\n",
    "df.where(df['registration'] > obs_start_default).select(['userId','registrationTime']).dropDuplicates().show()"
   ]
  },
  {
   "cell_type": "code",
   "execution_count": 30,
   "metadata": {},
   "outputs": [],
   "source": [
    "# compute the observation period\n",
    "df = df \\\n",
    "    .withColumn('obs_start', when(col('registration') > obs_start_default, first(col('ts')).over(userWindow)) \\\n",
    "                .otherwise(obs_start_default)) \\\n",
    "    .withColumn('end_state', last(col('page')).over(userWindow)) \\\n",
    "    .withColumn('obs_end', when(col('end_state') == 'Cancellation Confirmation', last(col('ts')).over(userWindow)) \\\n",
    "                .otherwise(obs_end_default)) \\\n",
    "    .withColumn('obsDays', (col('obs_end') - col('obs_start'))/1000/3600/24)"
   ]
  },
  {
   "cell_type": "code",
   "execution_count": 31,
   "metadata": {},
   "outputs": [
    {
     "name": "stdout",
     "output_type": "stream",
     "text": [
      "+--------------------+------+\n",
      "|                page| count|\n",
      "+--------------------+------+\n",
      "|            NextSong|228108|\n",
      "|           Thumbs Up| 12551|\n",
      "|                Home| 10082|\n",
      "|     Add to Playlist|  6526|\n",
      "|          Add Friend|  4277|\n",
      "|         Roll Advert|  3933|\n",
      "|              Logout|  3226|\n",
      "|         Thumbs Down|  2546|\n",
      "|           Downgrade|  2055|\n",
      "|            Settings|  1514|\n",
      "|                Help|  1454|\n",
      "|             Upgrade|   499|\n",
      "|               About|   495|\n",
      "|       Save Settings|   310|\n",
      "|               Error|   252|\n",
      "|      Submit Upgrade|   159|\n",
      "|    Submit Downgrade|    63|\n",
      "|              Cancel|    52|\n",
      "|Cancellation Conf...|    52|\n",
      "+--------------------+------+\n",
      "\n"
     ]
    }
   ],
   "source": [
    "df.groupBy('page').count().orderBy('count', ascending=False).show()"
   ]
  },
  {
   "cell_type": "code",
   "execution_count": 32,
   "metadata": {},
   "outputs": [],
   "source": [
    "# aggregate activity statistics\n",
    "user_df = df.groupBy('userId') \\\n",
    ".agg(first(col('Churn')).alias('Churn'), \\\n",
    "     first(when(col('gender') == 'M', 1).otherwise(0)).alias('gender'), \\\n",
    "     first(when(col('latestLevel') == 'paid', 1).otherwise(0)).alias('latestLevel'), \\\n",
    "     first(col('obsDays')).alias('obsDays'), \\\n",
    "     sum(when(col('page') == 'NextSong', 1).otherwise(0)).alias('nSongs'), \\\n",
    "     sum(when(col('page') == 'Thumbs Up', 1).otherwise(0)).alias('nThumbsUp'), \\\n",
    "     sum(when(col('page') == 'Thumbs Down', 1).otherwise(0)).alias('nThumbsDown'), \\\n",
    "     sum(when((col('page') == 'Upgrade') | (col('page') == 'Submit Upgrade'), 1).otherwise(0)).alias('nUpgrade'), \\\n",
    "     sum(when((col('page') == 'Downgrade') | (col('page') == 'Submit Downgrade'), 1).otherwise(0)).alias('nDowngrade'), \\\n",
    "     sum(when(col('page') == 'Add Friend', 1).otherwise(0)).alias('nAddFriend'), \\\n",
    "     sum(when(col('page') == 'Add to Playlist', 1).otherwise(0)).alias(\"nAddPlaylist\"), \\\n",
    "     sum(when(col('page') == 'Roll Advert', 1).otherwise(0)).alias('nAdvert'), \\\n",
    "     sum(when((col('page') == 'Help'), 1).otherwise(0)).alias('nHelp'), \\\n",
    "     sum(when((col('page') == 'Error'), 1).otherwise(0)).alias('nError')) \\\n",
    ".join(location_df, on='userId') \\\n",
    ".join(regist_duration_df, on='userId') \\\n",
    ".join(avg_session_duration_df, on='userId')"
   ]
  },
  {
   "cell_type": "code",
   "execution_count": 33,
   "metadata": {},
   "outputs": [],
   "source": [
    "user_df = user_df \\\n",
    "        .withColumn('avgDailySongs', col('nSongs') / col('obsDays')) \\\n",
    "        .withColumn('avgDailyThumbsUp', col('nThumbsUp') / col('obsDays')) \\\n",
    "        .withColumn('avgDailyThumbsDown', col('nThumbsDown') / col('obsDays')) \\\n",
    "        .withColumn('avgDailyUpgrade', col('nUpgrade') / col('obsDays')) \\\n",
    "        .withColumn('avgDailyDowngrade', col('nDowngrade') / col('obsDays')) \\\n",
    "        .withColumn('avgDailyAddFriend', col('nAddFriend') / col('obsDays')) \\\n",
    "        .withColumn('avgDailyAddPlaylist', col('nAddPlaylist') / col('obsDays')) \\\n",
    "        .withColumn('avgDailyAdvert', col('nAdvert') / col('obsDays')) \\\n",
    "        .withColumn('avgDailyHelp', col('nHelp') / col('obsDays')) \\\n",
    "        .withColumn('avgDailyError', col('nError') / col('obsDays')) \\\n",
    "        .drop('userId', 'obsDays', 'nSongs', 'nThumbsUp', 'nThumbsDown', 'nUpgrade', 'nDowngrade', \\\n",
    "              'nAddFriend', 'nAddPlaylist', 'nAdvert', 'nHelp', 'nError')\n",
    "\n",
    "user_df_pd = user_df.toPandas()"
   ]
  },
  {
   "cell_type": "markdown",
   "metadata": {},
   "source": [
    "#### Analyze the relationships between each categorical feature and binary response"
   ]
  },
  {
   "cell_type": "code",
   "execution_count": 34,
   "metadata": {},
   "outputs": [
    {
     "data": {
      "image/png": "[encoded data removed]",
      "text/plain": [
       "<Figure size 864x288 with 2 Axes>"
      ]
     },
     "metadata": {
      "needs_background": "light"
     },
     "output_type": "display_data"
    }
   ],
   "source": [
    "plt.figure(figsize = (12,4))\n",
    "\n",
    "plt.subplot(1,2,1)\n",
    "sns.countplot(x='gender', data=user_df_pd, hue='Churn', saturation=1);\n",
    "plt.legend(['Not churned', 'Churned']);\n",
    "plt.xticks([0,1], ['female','male'])\n",
    "\n",
    "\n",
    "plt.subplot(1,2,2)\n",
    "sns.countplot(x='latestLevel', data=user_df_pd, hue='Churn', saturation=1);\n",
    "plt.legend(['Not churned', 'Churned'])\n",
    "plt.xticks([0,1], ['free', 'paid'])\n",
    "\n",
    "plt.savefig('gender_latest_level_count.png', bbox_inches='tight', dpi=150)"
   ]
  },
  {
   "cell_type": "code",
   "execution_count": 35,
   "metadata": {},
   "outputs": [
    {
     "name": "stdout",
     "output_type": "stream",
     "text": [
      "+------+-----+-----+\n",
      "|gender|Churn|count|\n",
      "+------+-----+-----+\n",
      "|     1|    0|   89|\n",
      "|     1|    1|   32|\n",
      "|     0|    0|   84|\n",
      "|     0|    1|   20|\n",
      "+------+-----+-----+\n",
      "\n"
     ]
    }
   ],
   "source": [
    "user_df.select(['gender', 'Churn']).groupBy('gender', 'Churn').count().show()"
   ]
  },
  {
   "cell_type": "code",
   "execution_count": 36,
   "metadata": {},
   "outputs": [
    {
     "name": "stdout",
     "output_type": "stream",
     "text": [
      "+-----------+-----+-----+\n",
      "|latestLevel|Churn|count|\n",
      "+-----------+-----+-----+\n",
      "|          1|    0|  114|\n",
      "|          1|    1|   31|\n",
      "|          0|    0|   59|\n",
      "|          0|    1|   21|\n",
      "+-----------+-----+-----+\n",
      "\n"
     ]
    }
   ],
   "source": [
    "user_df.select(['latestLevel', 'Churn']).groupBy('latestLevel', 'Churn').count().show()"
   ]
  },
  {
   "cell_type": "markdown",
   "metadata": {},
   "source": [
    "We can see that the churn rates are only slightly higher for male users (female vs. male: 19.2% vs. 26.4%) and free users (free vs. paid: 26.3% vs. 21.4%). "
   ]
  },
  {
   "cell_type": "code",
   "execution_count": 37,
   "metadata": {},
   "outputs": [
    {
     "data": {
      "image/png": "[encoded data removed]",
      "text/plain": [
       "<Figure size 864x288 with 1 Axes>"
      ]
     },
     "metadata": {
      "needs_background": "light"
     },
     "output_type": "display_data"
    }
   ],
   "source": [
    "location_churn_df = df.select(['userId', 'location', 'Churn']).dropDuplicates(['userId'])\n",
    "location_churn_df = location_churn_df.join(region_df, location_churn_df['location']==region_df['State Code'], how='left') \\\n",
    "                    .select(['userId', col(\"Division\").alias(\"location\"), 'Churn'])\n",
    "\n",
    "# plot location vs. churn\n",
    "plt.figure(figsize = (12,4))\n",
    "sns.countplot(x='location', data=location_churn_df.toPandas(), hue='Churn', saturation=1);\n",
    "plt.xticks(rotation=15)\n",
    "plt.legend(['Not churned', 'Churned'], loc='upper right');\n",
    "\n",
    "plt.savefig('location_count.png', bbox_inches='tight', dpi=150)"
   ]
  },
  {
   "cell_type": "markdown",
   "metadata": {},
   "source": [
    "We notice that the churn rates differ greatly among divisions. For example, New England area has zero churn rate while there are as many churned users as unchurned ones in east south central area."
   ]
  },
  {
   "cell_type": "markdown",
   "metadata": {},
   "source": [
    "#### Analyze the relationships between each numerical feature and binary response"
   ]
  },
  {
   "cell_type": "code",
   "execution_count": 38,
   "metadata": {},
   "outputs": [
    {
     "data": {
      "image/png": "[encoded data removed]",
      "text/plain": [
       "<Figure size 1296x1296 with 12 Axes>"
      ]
     },
     "metadata": {
      "needs_background": "light"
     },
     "output_type": "display_data"
    }
   ],
   "source": [
    "# plot numerical features vs. churn\n",
    "num_cols = [field.name for field in user_df.schema.fields if field.dataType != IntegerType()]\n",
    "\n",
    "plt.figure(figsize=(18,18))\n",
    "with plt.style.context({'font.size': 14}): # change the font size temporarily\n",
    "    for i in range(len(num_cols)):\n",
    "        plt.subplot(4,3,i+1)\n",
    "        plt.tight_layout()\n",
    "        sns.distplot(user_df_pd[user_df_pd['Churn'] == 0][num_cols[i]], kde_kws={'shade':True, 'linewidth':2}, color='C0')\n",
    "        sns.distplot(user_df_pd[user_df_pd['Churn'] == 1][num_cols[i]], kde_kws={'shade':True, 'linewidth':2}, color='C1')\n",
    "        plt.legend(['Not churned','Churned'])\n",
    "        plt.xlabel(num_cols[i])\n",
    "        plt.ylabel('density')\n",
    "\n",
    "plt.savefig('numerical_features_hist.png', dpi=150)"
   ]
  },
  {
   "cell_type": "markdown",
   "metadata": {},
   "source": [
    "We find:\n",
    "\n",
    "* Churned users have a shorter registration duration on average.\n",
    "* Churned users give more thumbs down, need more help, and have to watch more advertisements per day.\n",
    "* There is no significant difference between churned and unchurned users in terms of average session duration."
   ]
  },
  {
   "cell_type": "markdown",
   "metadata": {},
   "source": [
    "### Analyze feature correlations\n",
    "\n",
    "Before we start modeling, we also need to understand the correlation between the response variable and the features as well as the correlation between the features. The **Correlation** function in the **ml.stat** subpackage requires a column of type Vector. Thus, we need to convert the columns into a vector column first and then apply the correlation."
   ]
  },
  {
   "cell_type": "code",
   "execution_count": 39,
   "metadata": {},
   "outputs": [],
   "source": [
    "vec_col = 'corr_features'\n",
    "   \n",
    "# assemble all vector columns into one vector column\n",
    "assembler = VectorAssembler(inputCols=user_df.columns, outputCol=vec_col)\n",
    "corr_df = assembler.transform(user_df).select(vec_col)\n",
    "\n",
    "# compute the correlation between 'churn' and every feature and the correlation between each pair of features\n",
    "corr_mat = Correlation.corr(corr_df, vec_col)\n",
    "# convert the corrlation matrix to a pandas dataframe with column names\n",
    "corr_values = corr_mat.collect()[0][0].values\n",
    "corr_mat_pd = pd.DataFrame(corr_values.reshape(-1, len(user_df.columns)), \\\n",
    "                           index=user_df.columns, columns=user_df.columns)"
   ]
  },
  {
   "cell_type": "code",
   "execution_count": 40,
   "metadata": {},
   "outputs": [
    {
     "data": {
      "image/png": "[encoded data removed]",
      "text/plain": [
       "<Figure size 720x720 with 2 Axes>"
      ]
     },
     "metadata": {
      "needs_background": "light"
     },
     "output_type": "display_data"
    }
   ],
   "source": [
    "# plot feature correlations\n",
    "plt.figure(figsize=(10,10))\n",
    "sns.heatmap(corr_mat_pd, vmin=-1, vmax=1, cmap=sns.diverging_palette(240, 20, as_cmap=True), \n",
    "            linewidths=.5, cbar_kws={\"shrink\": .5}, square=True)\n",
    "plt.savefig('feature_correlations.png', bbox_inches='tight', dpi=150)"
   ]
  },
  {
   "cell_type": "markdown",
   "metadata": {},
   "source": [
    "From the heatmap above, we find\n",
    "\n",
    "* Many page event activities, such as **avgDailySongs**, **avgDailyThumbsUp**, **avgDailyDowngrade**, **avgDailyAddFriend**, **avgDailyAddPlaylist** and **avgDailyHelp**, are highly correlated. To avoid multicollinearity in the data, we only retain **avgDailyAddPlaylist** here (as it has the highest correlation with **Churn**). On the other hand, location features are weakly correlated with each other.\n",
    "\n",
    "* **Churn** doesn not appear to have strong correlations with any features.  **registDuration** is negatively correlated with **Churn** while **avgDailyAdvert** has the highest positive correlation with **Churn**. It also shows that **gender**, **latestLevel**, **avgSessionDuration** and many location features all have very low correlation with **Churn**. This is consistent with our previous findings through direct visualization. However, the Pearson correlation assumes a linear relationship, and a low correlation simply means that there is no linear relationship between these features and the response variable. The data might still have a nonlinear relationship and should be included in the modeling for now. \n",
    "\n",
    "The code that automates the removal of highly correlated features is shown below:"
   ]
  },
  {
   "cell_type": "code",
   "execution_count": 41,
   "metadata": {},
   "outputs": [
    {
     "name": "stdout",
     "output_type": "stream",
     "text": [
      "Highly correlated features include:\n",
      "['avgDailySongs', 'avgDailyThumbsUp', 'avgDailyDowngrade', 'avgDailyAddFriend', 'avgDailyAddPlaylist', 'avgDailyHelp']\n",
      "\n",
      "Features to keep:\n",
      "avgDailyAddPlaylist\n"
     ]
    }
   ],
   "source": [
    "# construct an adjacency matrix where high correlation (> 0.85) is labeled as 1, otherwise 0\n",
    "is_high_corr = np.abs(corr_mat_pd.values) > 0.85\n",
    "adj_mat = csr_matrix(is_high_corr.astype(int) - np.identity(len(user_df.columns)))\n",
    "\n",
    "# find groups of highly correlated features by finding the connected components in the adjacency matrix\n",
    "_, corr_labels = connected_components(csgraph=adj_mat, directed=False)\n",
    "unique, unique_counts = np.unique(corr_labels, return_counts=True)\n",
    "# get groups with size > 1\n",
    "high_corr_labels = unique[unique_counts > 1]\n",
    "\n",
    "# if there is at least one group of highly correlated features\n",
    "if len(high_corr_labels) > 0:\n",
    "    # map the label indices of highly correlated features to their column names\n",
    "    print('Highly correlated features include:')\n",
    "    high_corr_col_dict = {}\n",
    "    for high_corr_label in high_corr_labels:\n",
    "        high_corr_col_dict[high_corr_label] = [col_name for corr_label, col_name in zip(corr_labels, user_df.columns) \n",
    "                                               if corr_label == high_corr_label]\n",
    "        print(high_corr_col_dict[high_corr_label])\n",
    "        \n",
    "    print('\\nFeatures to keep:')\n",
    "    cols_to_drop = []\n",
    "    for col_name_list in high_corr_col_dict.values(): \n",
    "        # keep the feature that has the highest correlation with 'Churn'\n",
    "        col_to_keep = corr_mat_pd.loc[col_name_list,'Churn'].idxmax()\n",
    "        print(col_to_keep)\n",
    "        # remove the other features to avoid multicollinearity \n",
    "        col_name_list.remove(col_to_keep)\n",
    "        corr_mat_pd.drop(index=col_name_list, columns=col_name_list, inplace=True)\n",
    "        cols_to_drop.extend(col_name_list)"
   ]
  },
  {
   "cell_type": "code",
   "execution_count": 42,
   "metadata": {},
   "outputs": [
    {
     "name": "stdout",
     "output_type": "stream",
     "text": [
      "root\n",
      " |-- Churn: integer (nullable = true)\n",
      " |-- gender: integer (nullable = true)\n",
      " |-- latestLevel: integer (nullable = true)\n",
      " |-- locationEastNorthCentral: integer (nullable = true)\n",
      " |-- locationEastSouthCentral: integer (nullable = true)\n",
      " |-- locationMiddleAtlantic: integer (nullable = true)\n",
      " |-- locationMountain: integer (nullable = true)\n",
      " |-- locationNewEngland: integer (nullable = true)\n",
      " |-- locationPacific: integer (nullable = true)\n",
      " |-- locationSouthAtlantic: integer (nullable = true)\n",
      " |-- locationWestNorthCentral: integer (nullable = true)\n",
      " |-- registDuration: double (nullable = true)\n",
      " |-- avgSessionDuration: double (nullable = true)\n",
      " |-- avgDailyThumbsDown: double (nullable = true)\n",
      " |-- avgDailyUpgrade: double (nullable = true)\n",
      " |-- avgDailyAddPlaylist: double (nullable = true)\n",
      " |-- avgDailyAdvert: double (nullable = true)\n",
      " |-- avgDailyError: double (nullable = true)\n",
      "\n"
     ]
    }
   ],
   "source": [
    "model_df = user_df.drop(*cols_to_drop)\n",
    "model_df.printSchema()"
   ]
  },
  {
   "cell_type": "markdown",
   "metadata": {},
   "source": [
    "Now a total of 10 binary features and 7 numerical features are ready for modeling as inputs."
   ]
  },
  {
   "cell_type": "markdown",
   "metadata": {},
   "source": [
    "## Modeling and Evaluation\n",
    "\n",
    "We first randomly split the entire dataset into a training and a test set in 8:2 ratio using stratified sampling based on **Churn**."
   ]
  },
  {
   "cell_type": "code",
   "execution_count": 43,
   "metadata": {},
   "outputs": [
    {
     "name": "stdout",
     "output_type": "stream",
     "text": [
      "Train and test set each includes 181 and 44 users, respectively, where 10 users churn in the test set.\n"
     ]
    }
   ],
   "source": [
    "# split the data into train and test sets using stratified sampling based on 'Churn'\n",
    "train = model_df.sampleBy('Churn', fractions={0: 0.8, 1: 0.8}, seed=2020)\n",
    "test = model_df.subtract(train)\n",
    "print('Train and test set each includes {} and {} users, respectively, where {} users churn in the test set.'\n",
    "      .format(train.count(), test.count(), test.where(col('Churn') == 1).count()))"
   ]
  },
  {
   "cell_type": "markdown",
   "metadata": {},
   "source": [
    "Three binary classifiers supported in Spark are selected as candidate models: logistic regression, random forest classifier and gradient-boosted tree classifier. Both random forest and gradient-boosted techniques employ an ensemble of decision trees (base estimators) to improve the predictive capability over a single estimator. The difference is random forest builds several estimators independently and then average their predictions, while gradient-boosted tree buils base estimators sequentially to generate a powerful ensemble. "
   ]
  },
  {
   "cell_type": "markdown",
   "metadata": {},
   "source": [
    "### Build training pipelines\n",
    "\n",
    "For each binary classifier, we build a pipeline to facilitate the machine learning workflow and prevent data leakage."
   ]
  },
  {
   "cell_type": "code",
   "execution_count": 44,
   "metadata": {},
   "outputs": [],
   "source": [
    "num_cols = [field.name for field in model_df.schema.fields if field.dataType != IntegerType()]\n",
    "bin_cols = [col for col in model_df.columns if col not in num_cols + ['Churn']]\n",
    "\n",
    "# assemble numerical columns to a single vector column \n",
    "num_assembler = VectorAssembler(inputCols=num_cols, outputCol='num_features')\n",
    "    \n",
    "# scale each numberical feature within the range [0,1] \n",
    "scaler = MinMaxScaler(inputCol='num_features', outputCol='scaled_features')\n",
    "    \n",
    "# assemble all vector columns into one vector column\n",
    "assembler = VectorAssembler(inputCols= bin_cols + ['scaled_features'], outputCol='features')\n",
    "\n",
    "# logistic regression\n",
    "lr = LogisticRegression(featuresCol='features', labelCol='Churn')\n",
    "pipeline_lr = Pipeline(stages=[num_assembler, scaler, assembler, lr])\n",
    "\n",
    "# random forest classifier\n",
    "rf = RandomForestClassifier(featuresCol='features', labelCol='Churn', seed=2020)\n",
    "pipeline_rf = Pipeline(stages=[num_assembler, scaler, assembler, rf])\n",
    "\n",
    "# gradient-boosted tree classifier\n",
    "gb = GBTClassifier(featuresCol='features', labelCol='Churn', seed=2020)\n",
    "pipeline_gb = Pipeline(stages=[num_assembler, scaler, assembler, gb])"
   ]
  },
  {
   "cell_type": "markdown",
   "metadata": {},
   "source": [
    "### Performance metrics\n",
    "\n",
    "We choose to use the **f1 score** as a performance metric since our dataset is imbalanced. The f1 score is the harmonic mean of the precision and recall. Spark's **MulticlassClassificationEvaluator** module in the **ml.evaluation** subpackage only provides weighted f1 score, precision and recall metrics. For an imbalanced dataset dominated by the negative class, the weighted metrics will inflate the corresponding metrics from the positive class which we are more interested in. For this reason, we employ the **MulticlassMetrics** module from Spark's **mllib.evaluation** subpackage to calculate these metrics for each class. Another metric we look at is the **area under the precision-recall curve (AUC-PR)**. For binary classifier evaluation, precision-recall curves are more useful in practice than the receiver operating characteristic (ROC) curves for problems where the \"positive\" class is more of interest than the negative class. See: http://pages.cs.wisc.edu/~jdavis/davisgoadrichcamera2.pdf "
   ]
  },
  {
   "cell_type": "code",
   "execution_count": 45,
   "metadata": {},
   "outputs": [],
   "source": [
    "def print_metrics(pred, label='Churn'):\n",
    "    \"\"\"Print evaluation metrics on a test set\n",
    "    \n",
    "    Args:\n",
    "    pred: (spark dataframe) a test set \n",
    "    \n",
    "    Returns:\n",
    "    summary: (pandas dataframe) a summary of evaluation metrics\n",
    "    \"\"\"\n",
    "    eval_metrics = {}\n",
    "\n",
    "    # compute area under PR curve\n",
    "    evaluator = BinaryClassificationEvaluator(labelCol=label)\n",
    "    auc_pr = evaluator.evaluate(pred, {evaluator.metricName:'areaUnderPR'})\n",
    "\n",
    "    # compute precision, recall and f1 score\n",
    "    predictionAndLabels = pred.select('prediction', label)\n",
    "    # both 'prediction' and label in predictionAndLabels need to be cast to float type and \n",
    "    # map to tuple before calling 'MulticlassMetrics'\n",
    "    metrics = MulticlassMetrics(predictionAndLabels.rdd.map(lambda x: tuple(map(float, x))))\n",
    "\n",
    "    # get overall statistics\n",
    "    eval_metrics['overall'] = [metrics.weightedPrecision, metrics.weightedRecall, \\\n",
    "                               metrics.weightedFMeasure(), auc_pr]\n",
    "\n",
    "    # get statistics by class\n",
    "    classes = [0.0, 1.0]\n",
    "    for cls in classes:\n",
    "        eval_metrics['class ' + str(int(cls))] = [metrics.precision(cls), metrics.recall(cls), \\\n",
    "                                                  metrics.fMeasure(cls), '']\n",
    "\n",
    "    # convert to a pandas dataframe for display\n",
    "    summary = pd.DataFrame.from_dict(eval_metrics, orient='index', \\\n",
    "                                     columns=['precision', 'recall', 'f1 score', 'AUC-PR'])   \n",
    "    \n",
    "    return summary"
   ]
  },
  {
   "cell_type": "markdown",
   "metadata": {},
   "source": [
    "### Hyperparameter tuning\n",
    "\n",
    "The search spaces of hyperparameters for the three models are listed below:\n",
    "\n",
    "* **Logistic Regression**\n",
    "    - *maxIter* (maximum number of iterations, default=100): [10, 30]\n",
    "    - *regParam* (regularization parameter, default=0.0): [0.0, 0.1]\n",
    "    - *elasticNetParam* (mixing parameter - 0 for L2 penalty, 1 for L1 penalty, default=0.0: [0.0, 0.5]\n",
    "\n",
    "* **Random Forest Classifier**\n",
    "    - *maxDepth* (maximum tree depth, default=5): [4, 5]\n",
    "    - *numTrees* (number of trees, default=20): [20, 100, 200]\n",
    "\n",
    "* **Gradient-Boosted Tree Classifier**\n",
    "    - *maxDepth* (maximum tree depth, default=5): [4, 5]\n",
    "    - *maxIter* (maximum number of iterations, default=20): [20, 100]\n",
    "\n",
    "We perform a grid search with 4-fold cross validation to test the performance of these hyperparameter combinations measured by **AUC-PR**. An advantage of using AUC-PR is that one does not need to worry about optimizing the probability threshold that splits the model outputs into positive and negative predictions, as it summarizes the model performance over all possible thresholds."
   ]
  },
  {
   "cell_type": "markdown",
   "metadata": {},
   "source": [
    "#### Logistic regression"
   ]
  },
  {
   "cell_type": "code",
   "execution_count": 46,
   "metadata": {},
   "outputs": [
    {
     "name": "stdout",
     "output_type": "stream",
     "text": [
      "Total training time for hyperparameter tuning on logistic regression: 436 seconds\n"
     ]
    }
   ],
   "source": [
    "# set hyperparameters for tuning\n",
    "paramGrid = ParamGridBuilder() \\\n",
    "            .addGrid(lr.maxIter, [10, 30]) \\\n",
    "            .addGrid(lr.regParam, [0.0, 0.1]) \\\n",
    "            .addGrid(lr.elasticNetParam, [0.0, 0.5]) \\\n",
    "            .build()\n",
    "\n",
    "\n",
    "# grid search with cross validation    \n",
    "crossval_lr = CrossValidator(estimator = pipeline_lr,\n",
    "                             estimatorParamMaps = paramGrid,\n",
    "                             evaluator = BinaryClassificationEvaluator(labelCol='Churn', metricName='areaUnderPR'),\n",
    "                             numFolds = 4)\n",
    "\n",
    "start = time()\n",
    "cv_lr = crossval_lr.fit(train)\n",
    "end = time()\n",
    "print('Total training time for hyperparameter tuning on logistic regression: {:.0f} seconds'.format(end - start))"
   ]
  },
  {
   "cell_type": "code",
   "execution_count": 47,
   "metadata": {},
   "outputs": [
    {
     "data": {
      "text/html": [
       "<div>\n",
       "<style scoped>\n",
       "    .dataframe tbody tr th:only-of-type {\n",
       "        vertical-align: middle;\n",
       "    }\n",
       "\n",
       "    .dataframe tbody tr th {\n",
       "        vertical-align: top;\n",
       "    }\n",
       "\n",
       "    .dataframe thead th {\n",
       "        text-align: right;\n",
       "    }\n",
       "</style>\n",
       "<table border=\"1\" class=\"dataframe\">\n",
       "  <thead>\n",
       "    <tr style=\"text-align: right;\">\n",
       "      <th></th>\n",
       "      <th>maxIter</th>\n",
       "      <th>regParam</th>\n",
       "      <th>elasticNetParam</th>\n",
       "      <th>AUC-PR</th>\n",
       "    </tr>\n",
       "  </thead>\n",
       "  <tbody>\n",
       "    <tr>\n",
       "      <th>0</th>\n",
       "      <td>10</td>\n",
       "      <td>0.0</td>\n",
       "      <td>0.0</td>\n",
       "      <td>0.528178</td>\n",
       "    </tr>\n",
       "    <tr>\n",
       "      <th>1</th>\n",
       "      <td>10</td>\n",
       "      <td>0.0</td>\n",
       "      <td>0.5</td>\n",
       "      <td>0.528178</td>\n",
       "    </tr>\n",
       "    <tr>\n",
       "      <th>2</th>\n",
       "      <td>10</td>\n",
       "      <td>0.1</td>\n",
       "      <td>0.0</td>\n",
       "      <td>0.588495</td>\n",
       "    </tr>\n",
       "    <tr>\n",
       "      <th>3</th>\n",
       "      <td>10</td>\n",
       "      <td>0.1</td>\n",
       "      <td>0.5</td>\n",
       "      <td>0.605653</td>\n",
       "    </tr>\n",
       "    <tr>\n",
       "      <th>4</th>\n",
       "      <td>30</td>\n",
       "      <td>0.0</td>\n",
       "      <td>0.0</td>\n",
       "      <td>0.515378</td>\n",
       "    </tr>\n",
       "    <tr>\n",
       "      <th>5</th>\n",
       "      <td>30</td>\n",
       "      <td>0.0</td>\n",
       "      <td>0.5</td>\n",
       "      <td>0.515378</td>\n",
       "    </tr>\n",
       "    <tr>\n",
       "      <th>6</th>\n",
       "      <td>30</td>\n",
       "      <td>0.1</td>\n",
       "      <td>0.0</td>\n",
       "      <td>0.592072</td>\n",
       "    </tr>\n",
       "    <tr>\n",
       "      <th>7</th>\n",
       "      <td>30</td>\n",
       "      <td>0.1</td>\n",
       "      <td>0.5</td>\n",
       "      <td>0.600646</td>\n",
       "    </tr>\n",
       "  </tbody>\n",
       "</table>\n",
       "</div>"
      ],
      "text/plain": [
       "   maxIter  regParam  elasticNetParam    AUC-PR\n",
       "0       10       0.0              0.0  0.528178\n",
       "1       10       0.0              0.5  0.528178\n",
       "2       10       0.1              0.0  0.588495\n",
       "3       10       0.1              0.5  0.605653\n",
       "4       30       0.0              0.0  0.515378\n",
       "5       30       0.0              0.5  0.515378\n",
       "6       30       0.1              0.0  0.592072\n",
       "7       30       0.1              0.5  0.600646"
      ]
     },
     "execution_count": 47,
     "metadata": {},
     "output_type": "execute_result"
    }
   ],
   "source": [
    "# store grid search results in a dataframe\n",
    "params = [{p.name: v for p, v in m.items()} for m in cv_lr.getEstimatorParamMaps()]\n",
    "params_pd = pd.DataFrame(params)\n",
    "params_pd['AUC-PR'] = cv_lr.avgMetrics\n",
    "params_pd"
   ]
  },
  {
   "cell_type": "code",
   "execution_count": 48,
   "metadata": {},
   "outputs": [
    {
     "data": {
      "text/html": [
       "<div>\n",
       "<style scoped>\n",
       "    .dataframe tbody tr th:only-of-type {\n",
       "        vertical-align: middle;\n",
       "    }\n",
       "\n",
       "    .dataframe tbody tr th {\n",
       "        vertical-align: top;\n",
       "    }\n",
       "\n",
       "    .dataframe thead th {\n",
       "        text-align: right;\n",
       "    }\n",
       "</style>\n",
       "<table border=\"1\" class=\"dataframe\">\n",
       "  <thead>\n",
       "    <tr style=\"text-align: right;\">\n",
       "      <th></th>\n",
       "      <th>precision</th>\n",
       "      <th>recall</th>\n",
       "      <th>f1 score</th>\n",
       "      <th>AUC-PR</th>\n",
       "    </tr>\n",
       "  </thead>\n",
       "  <tbody>\n",
       "    <tr>\n",
       "      <th>overall</th>\n",
       "      <td>0.852814</td>\n",
       "      <td>0.818182</td>\n",
       "      <td>0.767145</td>\n",
       "      <td>0.722162</td>\n",
       "    </tr>\n",
       "    <tr>\n",
       "      <th>class 0</th>\n",
       "      <td>0.809524</td>\n",
       "      <td>1.000000</td>\n",
       "      <td>0.894737</td>\n",
       "      <td></td>\n",
       "    </tr>\n",
       "    <tr>\n",
       "      <th>class 1</th>\n",
       "      <td>1.000000</td>\n",
       "      <td>0.200000</td>\n",
       "      <td>0.333333</td>\n",
       "      <td></td>\n",
       "    </tr>\n",
       "  </tbody>\n",
       "</table>\n",
       "</div>"
      ],
      "text/plain": [
       "         precision    recall  f1 score    AUC-PR\n",
       "overall   0.852814  0.818182  0.767145  0.722162\n",
       "class 0   0.809524  1.000000  0.894737          \n",
       "class 1   1.000000  0.200000  0.333333          "
      ]
     },
     "execution_count": 48,
     "metadata": {},
     "output_type": "execute_result"
    }
   ],
   "source": [
    "test_prediction = cv_lr.transform(test)\n",
    "print_metrics(test_prediction)"
   ]
  },
  {
   "cell_type": "markdown",
   "metadata": {},
   "source": [
    "#### Random forest classifier"
   ]
  },
  {
   "cell_type": "code",
   "execution_count": 49,
   "metadata": {},
   "outputs": [
    {
     "name": "stdout",
     "output_type": "stream",
     "text": [
      "Total training time for hyperparameter tuning on random forest classifier: 397 seconds\n"
     ]
    }
   ],
   "source": [
    "# set hyperparameters for tuning\n",
    "paramGrid = ParamGridBuilder() \\\n",
    "            .addGrid(rf.numTrees, [20, 100, 200]) \\\n",
    "            .addGrid(rf.maxDepth, [4, 5]) \\\n",
    "            .build()  \n",
    "\n",
    "# grid search with cross validation    \n",
    "crossval_rf = CrossValidator(estimator = pipeline_rf,\n",
    "                             estimatorParamMaps = paramGrid,\n",
    "                             evaluator = BinaryClassificationEvaluator(labelCol='Churn', metricName='areaUnderPR'),\n",
    "                             numFolds = 4)\n",
    "\n",
    "start = time()\n",
    "cv_rf = crossval_rf.fit(train)\n",
    "end = time()\n",
    "print('Total training time for hyperparameter tuning on random forest classifier: {:.0f} seconds'.format(end - start))"
   ]
  },
  {
   "cell_type": "code",
   "execution_count": 50,
   "metadata": {},
   "outputs": [
    {
     "data": {
      "text/html": [
       "<div>\n",
       "<style scoped>\n",
       "    .dataframe tbody tr th:only-of-type {\n",
       "        vertical-align: middle;\n",
       "    }\n",
       "\n",
       "    .dataframe tbody tr th {\n",
       "        vertical-align: top;\n",
       "    }\n",
       "\n",
       "    .dataframe thead th {\n",
       "        text-align: right;\n",
       "    }\n",
       "</style>\n",
       "<table border=\"1\" class=\"dataframe\">\n",
       "  <thead>\n",
       "    <tr style=\"text-align: right;\">\n",
       "      <th></th>\n",
       "      <th>numTrees</th>\n",
       "      <th>maxDepth</th>\n",
       "      <th>AUC-PR</th>\n",
       "    </tr>\n",
       "  </thead>\n",
       "  <tbody>\n",
       "    <tr>\n",
       "      <th>0</th>\n",
       "      <td>20</td>\n",
       "      <td>4</td>\n",
       "      <td>0.671751</td>\n",
       "    </tr>\n",
       "    <tr>\n",
       "      <th>1</th>\n",
       "      <td>20</td>\n",
       "      <td>5</td>\n",
       "      <td>0.632830</td>\n",
       "    </tr>\n",
       "    <tr>\n",
       "      <th>2</th>\n",
       "      <td>100</td>\n",
       "      <td>4</td>\n",
       "      <td>0.680891</td>\n",
       "    </tr>\n",
       "    <tr>\n",
       "      <th>3</th>\n",
       "      <td>100</td>\n",
       "      <td>5</td>\n",
       "      <td>0.667711</td>\n",
       "    </tr>\n",
       "    <tr>\n",
       "      <th>4</th>\n",
       "      <td>200</td>\n",
       "      <td>4</td>\n",
       "      <td>0.676326</td>\n",
       "    </tr>\n",
       "    <tr>\n",
       "      <th>5</th>\n",
       "      <td>200</td>\n",
       "      <td>5</td>\n",
       "      <td>0.669651</td>\n",
       "    </tr>\n",
       "  </tbody>\n",
       "</table>\n",
       "</div>"
      ],
      "text/plain": [
       "   numTrees  maxDepth    AUC-PR\n",
       "0        20         4  0.671751\n",
       "1        20         5  0.632830\n",
       "2       100         4  0.680891\n",
       "3       100         5  0.667711\n",
       "4       200         4  0.676326\n",
       "5       200         5  0.669651"
      ]
     },
     "execution_count": 50,
     "metadata": {},
     "output_type": "execute_result"
    }
   ],
   "source": [
    "# store grid search results in a dataframe\n",
    "params = [{p.name: v for p, v in m.items()} for m in cv_rf.getEstimatorParamMaps()]\n",
    "params_pd = pd.DataFrame(params)\n",
    "params_pd['AUC-PR'] = cv_rf.avgMetrics\n",
    "params_pd"
   ]
  },
  {
   "cell_type": "code",
   "execution_count": 51,
   "metadata": {},
   "outputs": [
    {
     "data": {
      "text/html": [
       "<div>\n",
       "<style scoped>\n",
       "    .dataframe tbody tr th:only-of-type {\n",
       "        vertical-align: middle;\n",
       "    }\n",
       "\n",
       "    .dataframe tbody tr th {\n",
       "        vertical-align: top;\n",
       "    }\n",
       "\n",
       "    .dataframe thead th {\n",
       "        text-align: right;\n",
       "    }\n",
       "</style>\n",
       "<table border=\"1\" class=\"dataframe\">\n",
       "  <thead>\n",
       "    <tr style=\"text-align: right;\">\n",
       "      <th></th>\n",
       "      <th>precision</th>\n",
       "      <th>recall</th>\n",
       "      <th>f1 score</th>\n",
       "      <th>AUC-PR</th>\n",
       "    </tr>\n",
       "  </thead>\n",
       "  <tbody>\n",
       "    <tr>\n",
       "      <th>overall</th>\n",
       "      <td>0.857323</td>\n",
       "      <td>0.863636</td>\n",
       "      <td>0.858009</td>\n",
       "      <td>0.767631</td>\n",
       "    </tr>\n",
       "    <tr>\n",
       "      <th>class 0</th>\n",
       "      <td>0.888889</td>\n",
       "      <td>0.941176</td>\n",
       "      <td>0.914286</td>\n",
       "      <td></td>\n",
       "    </tr>\n",
       "    <tr>\n",
       "      <th>class 1</th>\n",
       "      <td>0.750000</td>\n",
       "      <td>0.600000</td>\n",
       "      <td>0.666667</td>\n",
       "      <td></td>\n",
       "    </tr>\n",
       "  </tbody>\n",
       "</table>\n",
       "</div>"
      ],
      "text/plain": [
       "         precision    recall  f1 score    AUC-PR\n",
       "overall   0.857323  0.863636  0.858009  0.767631\n",
       "class 0   0.888889  0.941176  0.914286          \n",
       "class 1   0.750000  0.600000  0.666667          "
      ]
     },
     "execution_count": 51,
     "metadata": {},
     "output_type": "execute_result"
    }
   ],
   "source": [
    "test_prediction = cv_rf.transform(test)\n",
    "print_metrics(test_prediction)"
   ]
  },
  {
   "cell_type": "markdown",
   "metadata": {},
   "source": [
    "#### Gradient-boosted tree classifier"
   ]
  },
  {
   "cell_type": "code",
   "execution_count": 52,
   "metadata": {},
   "outputs": [
    {
     "name": "stdout",
     "output_type": "stream",
     "text": [
      "Total training time for hyperparameter tuning on Gradient-boosted tree classifier: 4837 seconds\n"
     ]
    }
   ],
   "source": [
    "# set hyperparameters for tuning\n",
    "paramGrid = ParamGridBuilder() \\\n",
    "            .addGrid(gb.maxDepth, [4, 5]) \\\n",
    "            .addGrid(gb.maxIter, [20, 100]) \\\n",
    "            .build()\n",
    "\n",
    "# grid search with cross validation    \n",
    "crossval_gb = CrossValidator(estimator = pipeline_gb,\n",
    "                             estimatorParamMaps = paramGrid,\n",
    "                             evaluator = BinaryClassificationEvaluator(labelCol='Churn', metricName='areaUnderPR'),\n",
    "                             numFolds = 4)\n",
    "\n",
    "start = time()\n",
    "cv_gb = crossval_gb.fit(train)\n",
    "end = time()\n",
    "print('Total training time for hyperparameter tuning on Gradient-boosted tree classifier: {:.0f} seconds'.format(end - start))"
   ]
  },
  {
   "cell_type": "code",
   "execution_count": 53,
   "metadata": {},
   "outputs": [
    {
     "data": {
      "text/html": [
       "<div>\n",
       "<style scoped>\n",
       "    .dataframe tbody tr th:only-of-type {\n",
       "        vertical-align: middle;\n",
       "    }\n",
       "\n",
       "    .dataframe tbody tr th {\n",
       "        vertical-align: top;\n",
       "    }\n",
       "\n",
       "    .dataframe thead th {\n",
       "        text-align: right;\n",
       "    }\n",
       "</style>\n",
       "<table border=\"1\" class=\"dataframe\">\n",
       "  <thead>\n",
       "    <tr style=\"text-align: right;\">\n",
       "      <th></th>\n",
       "      <th>maxDepth</th>\n",
       "      <th>maxIter</th>\n",
       "      <th>AUC-PR</th>\n",
       "    </tr>\n",
       "  </thead>\n",
       "  <tbody>\n",
       "    <tr>\n",
       "      <th>0</th>\n",
       "      <td>4</td>\n",
       "      <td>20</td>\n",
       "      <td>0.434562</td>\n",
       "    </tr>\n",
       "    <tr>\n",
       "      <th>1</th>\n",
       "      <td>4</td>\n",
       "      <td>100</td>\n",
       "      <td>0.459551</td>\n",
       "    </tr>\n",
       "    <tr>\n",
       "      <th>2</th>\n",
       "      <td>5</td>\n",
       "      <td>20</td>\n",
       "      <td>0.459034</td>\n",
       "    </tr>\n",
       "    <tr>\n",
       "      <th>3</th>\n",
       "      <td>5</td>\n",
       "      <td>100</td>\n",
       "      <td>0.474385</td>\n",
       "    </tr>\n",
       "  </tbody>\n",
       "</table>\n",
       "</div>"
      ],
      "text/plain": [
       "   maxDepth  maxIter    AUC-PR\n",
       "0         4       20  0.434562\n",
       "1         4      100  0.459551\n",
       "2         5       20  0.459034\n",
       "3         5      100  0.474385"
      ]
     },
     "execution_count": 53,
     "metadata": {},
     "output_type": "execute_result"
    }
   ],
   "source": [
    "# store grid search results in a dataframe\n",
    "params = [{p.name: v for p, v in m.items()} for m in cv_gb.getEstimatorParamMaps()]\n",
    "params_pd = pd.DataFrame(params)\n",
    "params_pd['AUC-PR'] = cv_gb.avgMetrics\n",
    "params_pd"
   ]
  },
  {
   "cell_type": "code",
   "execution_count": 54,
   "metadata": {},
   "outputs": [
    {
     "data": {
      "text/html": [
       "<div>\n",
       "<style scoped>\n",
       "    .dataframe tbody tr th:only-of-type {\n",
       "        vertical-align: middle;\n",
       "    }\n",
       "\n",
       "    .dataframe tbody tr th {\n",
       "        vertical-align: top;\n",
       "    }\n",
       "\n",
       "    .dataframe thead th {\n",
       "        text-align: right;\n",
       "    }\n",
       "</style>\n",
       "<table border=\"1\" class=\"dataframe\">\n",
       "  <thead>\n",
       "    <tr style=\"text-align: right;\">\n",
       "      <th></th>\n",
       "      <th>precision</th>\n",
       "      <th>recall</th>\n",
       "      <th>f1 score</th>\n",
       "      <th>AUC-PR</th>\n",
       "    </tr>\n",
       "  </thead>\n",
       "  <tbody>\n",
       "    <tr>\n",
       "      <th>overall</th>\n",
       "      <td>0.767100</td>\n",
       "      <td>0.727273</td>\n",
       "      <td>0.741477</td>\n",
       "      <td>0.647246</td>\n",
       "    </tr>\n",
       "    <tr>\n",
       "      <th>class 0</th>\n",
       "      <td>0.866667</td>\n",
       "      <td>0.764706</td>\n",
       "      <td>0.812500</td>\n",
       "      <td></td>\n",
       "    </tr>\n",
       "    <tr>\n",
       "      <th>class 1</th>\n",
       "      <td>0.428571</td>\n",
       "      <td>0.600000</td>\n",
       "      <td>0.500000</td>\n",
       "      <td></td>\n",
       "    </tr>\n",
       "  </tbody>\n",
       "</table>\n",
       "</div>"
      ],
      "text/plain": [
       "         precision    recall  f1 score    AUC-PR\n",
       "overall   0.767100  0.727273  0.741477  0.647246\n",
       "class 0   0.866667  0.764706  0.812500          \n",
       "class 1   0.428571  0.600000  0.500000          "
      ]
     },
     "execution_count": 54,
     "metadata": {},
     "output_type": "execute_result"
    }
   ],
   "source": [
    "test_prediction = cv_gb.transform(test)\n",
    "print_metrics(test_prediction)"
   ]
  },
  {
   "cell_type": "markdown",
   "metadata": {},
   "source": [
    "The results obtained on the test set from the best model of each classifier are summarized in the table below:\n",
    "\n",
    "|Classifier                      | Parameters |Precision|          |Recall    |        |F1 score  |        |AUC-PR   | \n",
    "|:-------------------------------|:-----------|:-------:|----------|:--------:|--------|:--------:|--------|:-------:|\n",
    "|                                |            |Overall  |Churned   |Overall   |Churned | Overall  |Churned |         |\n",
    "|Logistic regression             |maxIter=10, regParam=0.1, elasticNetParam=0.5|0.85|1.00|0.82|0.20|0.77|0.33|0.72|\n",
    "|Random forest classifier        |maxDepth=4, numTrees=100\t   |0.86|**0.75**|0.86|**0.60**|**0.86**|**0.67**|**0.77**|   \n",
    "|Gradient-boosted tree classifier|maxDepth=5, maxIter=100                      |0.77|0.43|0.73|0.60|0.74|0.50|0.65|\n",
    "\n",
    "It shows that the random forest classifier outperforms both the logistic regression model and the gradient-boosted tree classifier in almost all categories. As aforementioned, the features and the response variable do not follow a linear relationship, which might suggest that a non-linear model will be more suited to the data. At a default probability threshold of 0.5, the random forest classifier is able to identify 60% of user churn, while 25% identified as churned users acutally satisfy with the service. If we want to target more users at risk of churning, we can lower the probability threshold, and a relatively high AUC-PR score of 0.77 will allow us to maintain a high precision that there will not be many more users with no intent of churning mistakenly targeted. "
   ]
  },
  {
   "cell_type": "markdown",
   "metadata": {},
   "source": [
    "### Feature importance\n",
    "\n",
    "We extract feature importances from the trained model to gain a better understanding of the feature attributes to the model in predicting user churn."
   ]
  },
  {
   "cell_type": "code",
   "execution_count": 55,
   "metadata": {},
   "outputs": [
    {
     "data": {
      "image/png": "[encoded data removed]",
      "text/plain": [
       "<Figure size 648x432 with 1 Axes>"
      ]
     },
     "metadata": {
      "needs_background": "light"
     },
     "output_type": "display_data"
    }
   ],
   "source": [
    "features = bin_cols + num_cols\n",
    "importances = list(cv_rf.bestModel.stages[-1].featureImportances)\n",
    "feat_imp_pd = pd.DataFrame({'feature': features, 'importance': importances}).sort_values('importance', ascending = False)\n",
    "\n",
    "# plot feature importance\n",
    "plt.figure(figsize=(9,6))\n",
    "sns.barplot(data=feat_imp_pd.head(15), y=\"feature\", x=\"importance\", palette='Blues_r', zorder=2)\n",
    "plt.grid(axis='x', linestyle='--', zorder=0)\n",
    "plt.ylabel('');\n",
    "plt.savefig('feature_importance.png', bbox_inches='tight', dpi=150)"
   ]
  },
  {
   "cell_type": "markdown",
   "metadata": {},
   "source": [
    "It can be seen that the most important feature for identifying churned users is the registration duration which makes sense since it directly reflects a user's willness to stay with the service. Another influential feature that plays a major role in churn prediction is avarage daily advertisements. Intuitively, the more advertisements a user has to watch, the more likely he/she is dissatisfied with the service.  Besides, average upgrades and thumbs down given per day that represent a user's strong inclination also help churn detection. \n",
    "\n",
    "The result also shows that gender, latest subscription level and each location feature contribute little to predicting churned users. Nevertheless, we notice that the churn rates of top location features, sch as those of New England and east south central areas are far different from the average churn rate."
   ]
  },
  {
   "cell_type": "markdown",
   "metadata": {},
   "source": [
    "## Conclusion\n",
    "\n",
    "In this project, we managed to build an end-to-end scalable machine learning pipeline using Python API for Spark, PySpark, to identify churned users. The pipeline runs from cleaning and labeling data, through feature engineering and removing highly correlated featues, to model tuning using grid search with cross validation, to predicting the probabilities associated with users prone to churning.\n",
    "\n",
    "As for model selection, the tuned random forest model with 100 trees and a maximum tree depth of 4 achieves the best result with an overall f1 score of 0.86. At a default probability threshold of 0.5, we are currently able to detect 60% of churned users. If deployed, the trained model could be used to predict users inclined to churn in advance, and we can provide them with special offers in the hope of keeping them from deleting their Sparkify accounts. On the other hand, 25% of the users who will receive special offers did not plan to discontinue the service and thus, would not need any special treatment. We need to emphasize that these results are based on the model that was only trained on 181 users and tested on 44 users with 10 positive cases. We expect the machine learning pipeline we develop here will generate better results with more training data in a full Sparkify dataset. \n",
    "\n",
    "### Reflection\n",
    "\n",
    "Since the dataset is relatively clean, the most critical step in the model development process is feature engineering. It has been proved most of the engineered features based on users' behaviors, such as registration duration and avarage advertisements one receives daily, play vital roles in churn prediction rather than users' demographical information (e.g., gender and location). Besides, here are a few coding tips I've learned during the implementation of the predictive framework:\n",
    "\n",
    "* Using **pivot** function with aggregation is a more concise way to one hot encode a categorical feature than using **StringIndexer** and **OneHotEncoderEstimator** functions.\n",
    "* Spark's **sampleBy** and other sampling functions do not guarantee an exact split to the weights (fluctuations often happen if number of records is low). It only guarantees that each object has equal probability to be assigned to a specific subset. \n",
    "* The f1 score from the **MulticlassClassificationEvaluator** module in the **ml.evaluation** subpackage is a weighted version. If we want to know the f1 score, precision and recall for the positive class, as is often the case, we can use **mllib.evaluation** subpackage instead. \n",
    "\n",
    "### Improvement\n",
    "\n",
    "There are several aspects in the modeling that can be addressed for further improvements:\n",
    "* Test more engineered features that capture user's activity patterns and trends\n",
    "* Test features such as **userAgent** that are ignored in the current modeling\n",
    "* Apply principle component analysis (PCA) to input features before feeding them to training: PCA allows us to reduce the number of features and decorrelate them, which often helps to improve the performance of the model downstream."
   ]
  }
 ],
 "metadata": {
  "kernelspec": {
   "display_name": "Python 3",
   "language": "python",
   "name": "python3"
  },
  "language_info": {
   "codemirror_mode": {
    "name": "ipython",
    "version": 3
   },
   "file_extension": ".py",
   "mimetype": "text/x-python",
   "name": "python",
   "nbconvert_exporter": "python",
   "pygments_lexer": "ipython3",
   "version": "3.7.9"
  }
 },
 "nbformat": 4,
 "nbformat_minor": 2
}